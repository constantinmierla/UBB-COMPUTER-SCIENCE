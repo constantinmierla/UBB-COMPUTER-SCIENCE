{
 "cells": [
  {
   "cell_type": "code",
   "execution_count": 2,
   "id": "initial_id",
   "metadata": {
    "collapsed": true,
    "ExecuteTime": {
     "end_time": "2024-10-08T07:38:41.664769600Z",
     "start_time": "2024-10-08T07:38:41.649897Z"
    }
   },
   "outputs": [
    {
     "data": {
      "text/plain": "[('w', 'o', 'r', 'd'),\n ('w', 'o', 'd', 'r'),\n ('w', 'r', 'o', 'd'),\n ('w', 'r', 'd', 'o'),\n ('w', 'd', 'o', 'r'),\n ('w', 'd', 'r', 'o'),\n ('o', 'w', 'r', 'd'),\n ('o', 'w', 'd', 'r'),\n ('o', 'r', 'w', 'd'),\n ('o', 'r', 'd', 'w'),\n ('o', 'd', 'w', 'r'),\n ('o', 'd', 'r', 'w'),\n ('r', 'w', 'o', 'd'),\n ('r', 'w', 'd', 'o'),\n ('r', 'o', 'w', 'd'),\n ('r', 'o', 'd', 'w'),\n ('r', 'd', 'w', 'o'),\n ('r', 'd', 'o', 'w'),\n ('d', 'w', 'o', 'r'),\n ('d', 'w', 'r', 'o'),\n ('d', 'o', 'w', 'r'),\n ('d', 'o', 'r', 'w'),\n ('d', 'r', 'w', 'o'),\n ('d', 'r', 'o', 'w')]"
     },
     "execution_count": 2,
     "metadata": {},
     "output_type": "execute_result"
    }
   ],
   "source": [
    "import itertools\n",
    "from random import sample\n",
    "from math import factorial\n",
    "from itertools import permutations\n",
    "list(permutations('word'))"
   ]
  },
  {
   "cell_type": "code",
   "execution_count": 3,
   "outputs": [
    {
     "name": "stdout",
     "output_type": "stream",
     "text": [
      "Help on built-in function factorial in module math:\n",
      "\n",
      "factorial(x, /)\n",
      "    Find x!.\n",
      "    \n",
      "    Raise a ValueError if x is negative or non-integral.\n"
     ]
    }
   ],
   "source": [
    "help(factorial)"
   ],
   "metadata": {
    "collapsed": false,
    "ExecuteTime": {
     "end_time": "2024-10-08T07:40:02.525770600Z",
     "start_time": "2024-10-08T07:40:02.447486400Z"
    }
   },
   "id": "d5218ff4bf2885c4"
  },
  {
   "cell_type": "code",
   "execution_count": 4,
   "outputs": [
    {
     "name": "stdout",
     "output_type": "stream",
     "text": [
      "Help on method sample in module random:\n",
      "\n",
      "sample(population, k, *, counts=None) method of random.Random instance\n",
      "    Chooses k unique random elements from a population sequence or set.\n",
      "    \n",
      "    Returns a new list containing elements from the population while\n",
      "    leaving the original population unchanged.  The resulting list is\n",
      "    in selection order so that all sub-slices will also be valid random\n",
      "    samples.  This allows raffle winners (the sample) to be partitioned\n",
      "    into grand prize and second place winners (the subslices).\n",
      "    \n",
      "    Members of the population need not be hashable or unique.  If the\n",
      "    population contains repeats, then each occurrence is a possible\n",
      "    selection in the sample.\n",
      "    \n",
      "    Repeated elements can be specified one at a time or with the optional\n",
      "    counts parameter.  For example:\n",
      "    \n",
      "        sample(['red', 'blue'], counts=[4, 2], k=5)\n",
      "    \n",
      "    is equivalent to:\n",
      "    \n",
      "        sample(['red', 'red', 'red', 'red', 'blue', 'blue'], k=5)\n",
      "    \n",
      "    To choose a sample from a range of integers, use range() for the\n",
      "    population argument.  This is especially fast and space efficient\n",
      "    for sampling from a large population:\n",
      "    \n",
      "        sample(range(10000000), 60)\n"
     ]
    }
   ],
   "source": [
    "help(sample)"
   ],
   "metadata": {
    "collapsed": false,
    "ExecuteTime": {
     "end_time": "2024-10-08T07:41:30.796066700Z",
     "start_time": "2024-10-08T07:41:30.764304900Z"
    }
   },
   "id": "49abfd0d5d3f5b9b"
  },
  {
   "cell_type": "code",
   "execution_count": 7,
   "outputs": [
    {
     "data": {
      "text/plain": "24"
     },
     "execution_count": 7,
     "metadata": {},
     "output_type": "execute_result"
    }
   ],
   "source": [
    "from random import sample\n",
    "from math import factorial\n",
    "from itertools import permutations\n",
    "factorial(len('word'))"
   ],
   "metadata": {
    "collapsed": false,
    "ExecuteTime": {
     "end_time": "2024-10-08T07:43:40.037432100Z",
     "start_time": "2024-10-08T07:43:40.017781100Z"
    }
   },
   "id": "3c656824a7d71b51"
  },
  {
   "cell_type": "code",
   "execution_count": 15,
   "outputs": [],
   "source": [
    "from random import sample\n",
    "from math import perm,comb\n",
    "from itertools import permutations, combinations\n",
    "\n",
    "def aranjamente(word, k, numar_total = False, aleator = False):\n",
    "    if numar_total:\n",
    "        return perm(len(word), k)\n",
    "    elif aleator:\n",
    "        return sample(word,k)\n",
    "    else:\n",
    "        return list(permutations(word,k))"
   ],
   "metadata": {
    "collapsed": false,
    "ExecuteTime": {
     "end_time": "2024-10-08T08:12:23.190450Z",
     "start_time": "2024-10-08T08:12:23.174814400Z"
    }
   },
   "id": "4155acdd7222bbae"
  },
  {
   "cell_type": "code",
   "execution_count": 15,
   "outputs": [],
   "source": [],
   "metadata": {
    "collapsed": false,
    "ExecuteTime": {
     "end_time": "2024-10-08T08:12:23.206075600Z",
     "start_time": "2024-10-08T08:12:23.190450Z"
    }
   },
   "id": "6a35d4e389014a43"
  },
  {
   "cell_type": "code",
   "execution_count": 16,
   "outputs": [
    {
     "data": {
      "text/plain": "[('w', 'o'),\n ('w', 'r'),\n ('w', 'd'),\n ('o', 'w'),\n ('o', 'r'),\n ('o', 'd'),\n ('r', 'w'),\n ('r', 'o'),\n ('r', 'd'),\n ('d', 'w'),\n ('d', 'o'),\n ('d', 'r')]"
     },
     "execution_count": 16,
     "metadata": {},
     "output_type": "execute_result"
    }
   ],
   "source": [
    "aranjamente('word',2)"
   ],
   "metadata": {
    "collapsed": false,
    "ExecuteTime": {
     "end_time": "2024-10-08T08:12:41.779954600Z",
     "start_time": "2024-10-08T08:12:41.732905500Z"
    }
   },
   "id": "5828aaae6b2b0ef"
  },
  {
   "cell_type": "code",
   "execution_count": 17,
   "outputs": [
    {
     "data": {
      "text/plain": "12"
     },
     "execution_count": 17,
     "metadata": {},
     "output_type": "execute_result"
    }
   ],
   "source": [
    "aranjamente('word',2,numar_total = True)"
   ],
   "metadata": {
    "collapsed": false,
    "ExecuteTime": {
     "end_time": "2024-10-08T08:13:05.074903800Z",
     "start_time": "2024-10-08T08:13:05.059225900Z"
    }
   },
   "id": "bdfdfb2d36356af8"
  },
  {
   "cell_type": "code",
   "execution_count": 18,
   "outputs": [
    {
     "data": {
      "text/plain": "['w', 'd']"
     },
     "execution_count": 18,
     "metadata": {},
     "output_type": "execute_result"
    }
   ],
   "source": [
    "aranjamente('word',2, aleator = True)"
   ],
   "metadata": {
    "collapsed": false,
    "ExecuteTime": {
     "end_time": "2024-10-08T08:13:18.223179500Z",
     "start_time": "2024-10-08T08:13:18.207410500Z"
    }
   },
   "id": "62e667ef69964f0f"
  },
  {
   "cell_type": "code",
   "execution_count": 24,
   "outputs": [],
   "source": [
    "from random import sample\n",
    "from math import perm,comb\n",
    "from itertools import permutations, combinations\n",
    "def combinari(word, count, numar_total = False, aleator = False):\n",
    "    if aleator == True:\n",
    "        return sample(list(combinations(word,count)), 1)\n",
    "    elif numar_total == True:\n",
    "        return len(list(permutations(word, count)))/ factorial(count)\n",
    "    else:\n",
    "        return list(combinations(word, count))"
   ],
   "metadata": {
    "collapsed": false,
    "ExecuteTime": {
     "end_time": "2024-10-08T08:25:27.488270200Z",
     "start_time": "2024-10-08T08:25:27.472646300Z"
    }
   },
   "id": "ecf8c04a45ddfffc"
  },
  {
   "cell_type": "code",
   "execution_count": 25,
   "outputs": [
    {
     "name": "stdout",
     "output_type": "stream",
     "text": [
      "6.0\n"
     ]
    }
   ],
   "source": [
    "print(combinari('word', 2, numar_total = True))"
   ],
   "metadata": {
    "collapsed": false,
    "ExecuteTime": {
     "end_time": "2024-10-08T08:25:28.427783400Z",
     "start_time": "2024-10-08T08:25:28.412144800Z"
    }
   },
   "id": "b945d77c89ba03ff"
  },
  {
   "cell_type": "code",
   "execution_count": 26,
   "outputs": [
    {
     "name": "stdout",
     "output_type": "stream",
     "text": [
      "[('r', 'd')]\n"
     ]
    }
   ],
   "source": [
    "print(combinari('word', 2, aleator = True))\n"
   ],
   "metadata": {
    "collapsed": false,
    "ExecuteTime": {
     "end_time": "2024-10-08T08:25:29.407969800Z",
     "start_time": "2024-10-08T08:25:29.374318100Z"
    }
   },
   "id": "d6318d0b70087b83"
  },
  {
   "cell_type": "code",
   "execution_count": 29,
   "outputs": [
    {
     "name": "stdout",
     "output_type": "stream",
     "text": [
      "Help on class combinations_with_replacement in module itertools:\n",
      "\n",
      "class combinations_with_replacement(builtins.object)\n",
      " |  combinations_with_replacement(iterable, r)\n",
      " |  \n",
      " |  Return successive r-length combinations of elements in the iterable allowing individual elements to have successive repeats.\n",
      " |  \n",
      " |  combinations_with_replacement('ABC', 2) --> ('A','A'), ('A','B'), ('A','C'), ('B','B'), ('B','C'), ('C','C')\n",
      " |  \n",
      " |  Methods defined here:\n",
      " |  \n",
      " |  __getattribute__(self, name, /)\n",
      " |      Return getattr(self, name).\n",
      " |  \n",
      " |  __iter__(self, /)\n",
      " |      Implement iter(self).\n",
      " |  \n",
      " |  __next__(self, /)\n",
      " |      Implement next(self).\n",
      " |  \n",
      " |  __reduce__(...)\n",
      " |      Return state information for pickling.\n",
      " |  \n",
      " |  __setstate__(...)\n",
      " |      Set state information for unpickling.\n",
      " |  \n",
      " |  __sizeof__(...)\n",
      " |      Returns size in memory, in bytes.\n",
      " |  \n",
      " |  ----------------------------------------------------------------------\n",
      " |  Static methods defined here:\n",
      " |  \n",
      " |  __new__(*args, **kwargs) from builtins.type\n",
      " |      Create and return a new object.  See help(type) for accurate signature.\n"
     ]
    }
   ],
   "source": [
    "from itertools import combinations_with_replacement\n",
    "help(combinations_with_replacement)"
   ],
   "metadata": {
    "collapsed": false,
    "ExecuteTime": {
     "end_time": "2024-10-08T08:26:22.031861Z",
     "start_time": "2024-10-08T08:26:21.969315200Z"
    }
   },
   "id": "117424e2bdf104a0"
  },
  {
   "cell_type": "code",
   "execution_count": 37,
   "outputs": [
    {
     "name": "stdout",
     "output_type": "stream",
     "text": [
      "A A A A\n",
      "A A A B\n",
      "A A A C\n",
      "A A A D\n",
      "A A A E\n",
      "A A B B\n",
      "A A B C\n",
      "A A B D\n",
      "A A B E\n",
      "A A C C\n",
      "A A C D\n",
      "A A C E\n",
      "A A D D\n",
      "A A D E\n",
      "A A E E\n",
      "A B B B\n",
      "A B B C\n",
      "A B B D\n",
      "A B B E\n",
      "A B C C\n",
      "A B C D\n",
      "A B C E\n",
      "A B D D\n",
      "A B D E\n",
      "A B E E\n",
      "A C C C\n",
      "A C C D\n",
      "A C C E\n",
      "A C D D\n",
      "A C D E\n",
      "A C E E\n",
      "A D D D\n",
      "A D D E\n",
      "A D E E\n",
      "A E E E\n",
      "B B B B\n",
      "B B B C\n",
      "B B B D\n",
      "B B B E\n",
      "B B C C\n",
      "B B C D\n",
      "B B C E\n",
      "B B D D\n",
      "B B D E\n",
      "B B E E\n",
      "B C C C\n",
      "B C C D\n",
      "B C C E\n",
      "B C D D\n",
      "B C D E\n",
      "B C E E\n",
      "B D D D\n",
      "B D D E\n",
      "B D E E\n",
      "B E E E\n",
      "C C C C\n",
      "C C C D\n",
      "C C C E\n",
      "C C D D\n",
      "C C D E\n",
      "C C E E\n",
      "C D D D\n",
      "C D D E\n",
      "C D E E\n",
      "C E E E\n",
      "D D D D\n",
      "D D D E\n",
      "D D E E\n",
      "D E E E\n",
      "E E E E\n"
     ]
    }
   ],
   "source": [
    "from itertools import combinations_with_replacement\n",
    "lista = list(combinations_with_replacement('ABCDE', 4))\n",
    "for i in lista:\n",
    "    print(' '.join(i))\n",
    "    "
   ],
   "metadata": {
    "collapsed": false,
    "ExecuteTime": {
     "end_time": "2024-10-08T08:35:12.317091400Z",
     "start_time": "2024-10-08T08:35:12.300941900Z"
    }
   },
   "id": "80c5beda70e703c2"
  },
  {
   "cell_type": "code",
   "execution_count": null,
   "outputs": [],
   "source": [],
   "metadata": {
    "collapsed": false
   },
   "id": "87a8dd967cc3a573"
  }
 ],
 "metadata": {
  "kernelspec": {
   "display_name": "Python 3",
   "language": "python",
   "name": "python3"
  },
  "language_info": {
   "codemirror_mode": {
    "name": "ipython",
    "version": 2
   },
   "file_extension": ".py",
   "mimetype": "text/x-python",
   "name": "python",
   "nbconvert_exporter": "python",
   "pygments_lexer": "ipython2",
   "version": "2.7.6"
  }
 },
 "nbformat": 4,
 "nbformat_minor": 5
}
