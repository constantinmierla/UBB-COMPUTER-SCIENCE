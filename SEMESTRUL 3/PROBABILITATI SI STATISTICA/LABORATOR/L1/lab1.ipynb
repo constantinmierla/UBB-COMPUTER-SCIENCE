{
 "cells": [
  {
   "cell_type": "code",
   "execution_count": 2,
   "id": "initial_id",
   "metadata": {
    "collapsed": true,
    "ExecuteTime": {
     "end_time": "2024-10-08T07:38:41.664769600Z",
     "start_time": "2024-10-08T07:38:41.649897Z"
    }
   },
   "outputs": [
    {
     "data": {
      "text/plain": "[('w', 'o', 'r', 'd'),\n ('w', 'o', 'd', 'r'),\n ('w', 'r', 'o', 'd'),\n ('w', 'r', 'd', 'o'),\n ('w', 'd', 'o', 'r'),\n ('w', 'd', 'r', 'o'),\n ('o', 'w', 'r', 'd'),\n ('o', 'w', 'd', 'r'),\n ('o', 'r', 'w', 'd'),\n ('o', 'r', 'd', 'w'),\n ('o', 'd', 'w', 'r'),\n ('o', 'd', 'r', 'w'),\n ('r', 'w', 'o', 'd'),\n ('r', 'w', 'd', 'o'),\n ('r', 'o', 'w', 'd'),\n ('r', 'o', 'd', 'w'),\n ('r', 'd', 'w', 'o'),\n ('r', 'd', 'o', 'w'),\n ('d', 'w', 'o', 'r'),\n ('d', 'w', 'r', 'o'),\n ('d', 'o', 'w', 'r'),\n ('d', 'o', 'r', 'w'),\n ('d', 'r', 'w', 'o'),\n ('d', 'r', 'o', 'w')]"
     },
     "execution_count": 2,
     "metadata": {},
     "output_type": "execute_result"
    }
   ],
   "source": [
    "import itertools\n",
    "from random import sample\n",
    "from math import factorial\n",
    "from itertools import permutations\n",
    "list(permutations('word'))"
   ]
  },
  {
   "cell_type": "code",
   "execution_count": 3,
   "outputs": [
    {
     "name": "stdout",
     "output_type": "stream",
     "text": [
      "Help on built-in function factorial in module math:\n",
      "\n",
      "factorial(x, /)\n",
      "    Find x!.\n",
      "    \n",
      "    Raise a ValueError if x is negative or non-integral.\n"
     ]
    }
   ],
   "source": [
    "help(factorial)"
   ],
   "metadata": {
    "collapsed": false,
    "ExecuteTime": {
     "end_time": "2024-10-08T07:40:02.525770600Z",
     "start_time": "2024-10-08T07:40:02.447486400Z"
    }
   },
   "id": "d5218ff4bf2885c4"
  },
  {
   "cell_type": "code",
   "execution_count": 4,
   "outputs": [
    {
     "name": "stdout",
     "output_type": "stream",
     "text": [
      "Help on method sample in module random:\n",
      "\n",
      "sample(population, k, *, counts=None) method of random.Random instance\n",
      "    Chooses k unique random elements from a population sequence or set.\n",
      "    \n",
      "    Returns a new list containing elements from the population while\n",
      "    leaving the original population unchanged.  The resulting list is\n",
      "    in selection order so that all sub-slices will also be valid random\n",
      "    samples.  This allows raffle winners (the sample) to be partitioned\n",
      "    into grand prize and second place winners (the subslices).\n",
      "    \n",
      "    Members of the population need not be hashable or unique.  If the\n",
      "    population contains repeats, then each occurrence is a possible\n",
      "    selection in the sample.\n",
      "    \n",
      "    Repeated elements can be specified one at a time or with the optional\n",
      "    counts parameter.  For example:\n",
      "    \n",
      "        sample(['red', 'blue'], counts=[4, 2], k=5)\n",
      "    \n",
      "    is equivalent to:\n",
      "    \n",
      "        sample(['red', 'red', 'red', 'red', 'blue', 'blue'], k=5)\n",
      "    \n",
      "    To choose a sample from a range of integers, use range() for the\n",
      "    population argument.  This is especially fast and space efficient\n",
      "    for sampling from a large population:\n",
      "    \n",
      "        sample(range(10000000), 60)\n"
     ]
    }
   ],
   "source": [
    "help(sample)"
   ],
   "metadata": {
    "collapsed": false,
    "ExecuteTime": {
     "end_time": "2024-10-08T07:41:30.796066700Z",
     "start_time": "2024-10-08T07:41:30.764304900Z"
    }
   },
   "id": "49abfd0d5d3f5b9b"
  },
  {
   "cell_type": "code",
   "execution_count": 7,
   "outputs": [
    {
     "data": {
      "text/plain": "24"
     },
     "execution_count": 7,
     "metadata": {},
     "output_type": "execute_result"
    }
   ],
   "source": [
    "from random import sample\n",
    "from math import factorial\n",
    "from itertools import permutations\n",
    "factorial(len('word'))"
   ],
   "metadata": {
    "collapsed": false,
    "ExecuteTime": {
     "end_time": "2024-10-08T07:43:40.037432100Z",
     "start_time": "2024-10-08T07:43:40.017781100Z"
    }
   },
   "id": "3c656824a7d71b51"
  },
  {
   "cell_type": "code",
   "execution_count": 15,
   "outputs": [],
   "source": [
    "from random import sample\n",
    "from math import perm,comb\n",
    "from itertools import permutations, combinations\n",
    "\n",
    "def aranjamente(word, k, numar_total = False, aleator = False):\n",
    "    if numar_total:\n",
    "        return perm(len(word), k)\n",
    "    elif aleator:\n",
    "        return sample(word,k)\n",
    "    else:\n",
    "        return list(permutations(word,k))"
   ],
   "metadata": {
    "collapsed": false,
    "ExecuteTime": {
     "end_time": "2024-10-08T08:12:23.190450Z",
     "start_time": "2024-10-08T08:12:23.174814400Z"
    }
   },
   "id": "4155acdd7222bbae"
  },
  {
   "cell_type": "code",
   "execution_count": 15,
   "outputs": [],
   "source": [],
   "metadata": {
    "collapsed": false,
    "ExecuteTime": {
     "end_time": "2024-10-08T08:12:23.206075600Z",
     "start_time": "2024-10-08T08:12:23.190450Z"
    }
   },
   "id": "6a35d4e389014a43"
  },
  {
   "cell_type": "code",
   "execution_count": 16,
   "outputs": [
    {
     "data": {
      "text/plain": "[('w', 'o'),\n ('w', 'r'),\n ('w', 'd'),\n ('o', 'w'),\n ('o', 'r'),\n ('o', 'd'),\n ('r', 'w'),\n ('r', 'o'),\n ('r', 'd'),\n ('d', 'w'),\n ('d', 'o'),\n ('d', 'r')]"
     },
     "execution_count": 16,
     "metadata": {},
     "output_type": "execute_result"
    }
   ],
   "source": [
    "aranjamente('word',2)"
   ],
   "metadata": {
    "collapsed": false,
    "ExecuteTime": {
     "end_time": "2024-10-08T08:12:41.779954600Z",
     "start_time": "2024-10-08T08:12:41.732905500Z"
    }
   },
   "id": "5828aaae6b2b0ef"
  },
  {
   "cell_type": "code",
   "execution_count": 17,
   "outputs": [
    {
     "data": {
      "text/plain": "12"
     },
     "execution_count": 17,
     "metadata": {},
     "output_type": "execute_result"
    }
   ],
   "source": [
    "aranjamente('word',2,numar_total = True)"
   ],
   "metadata": {
    "collapsed": false,
    "ExecuteTime": {
     "end_time": "2024-10-08T08:13:05.074903800Z",
     "start_time": "2024-10-08T08:13:05.059225900Z"
    }
   },
   "id": "bdfdfb2d36356af8"
  },
  {
   "cell_type": "code",
   "execution_count": 18,
   "outputs": [
    {
     "data": {
      "text/plain": "['w', 'd']"
     },
     "execution_count": 18,
     "metadata": {},
     "output_type": "execute_result"
    }
   ],
   "source": [
    "aranjamente('word',2, aleator = True)"
   ],
   "metadata": {
    "collapsed": false,
    "ExecuteTime": {
     "end_time": "2024-10-08T08:13:18.223179500Z",
     "start_time": "2024-10-08T08:13:18.207410500Z"
    }
   },
   "id": "62e667ef69964f0f"
  },
  {
   "cell_type": "code",
   "execution_count": 24,
   "outputs": [],
   "source": [
    "from random import sample\n",
    "from math import perm,comb\n",
    "from itertools import permutations, combinations\n",
    "def combinari(word, count, numar_total = False, aleator = False):\n",
    "    if aleator == True:\n",
    "        return sample(list(combinations(word,count)), 1)\n",
    "    elif numar_total == True:\n",
    "        return len(list(permutations(word, count)))/ factorial(count)\n",
    "    else:\n",
    "        return list(combinations(word, count))"
   ],
   "metadata": {
    "collapsed": false,
    "ExecuteTime": {
     "end_time": "2024-10-08T08:25:27.488270200Z",
     "start_time": "2024-10-08T08:25:27.472646300Z"
    }
   },
   "id": "ecf8c04a45ddfffc"
  },
  {
   "cell_type": "code",
   "execution_count": 25,
   "outputs": [
    {
     "name": "stdout",
     "output_type": "stream",
     "text": [
      "6.0\n"
     ]
    }
   ],
   "source": [
    "print(combinari('word', 2, numar_total = True))"
   ],
   "metadata": {
    "collapsed": false,
    "ExecuteTime": {
     "end_time": "2024-10-08T08:25:28.427783400Z",
     "start_time": "2024-10-08T08:25:28.412144800Z"
    }
   },
   "id": "b945d77c89ba03ff"
  },
  {
   "cell_type": "code",
   "execution_count": 26,
   "outputs": [
    {
     "name": "stdout",
     "output_type": "stream",
     "text": [
      "[('r', 'd')]\n"
     ]
    }
   ],
   "source": [
    "print(combinari('word', 2, aleator = True))\n"
   ],
   "metadata": {
    "collapsed": false,
    "ExecuteTime": {
     "end_time": "2024-10-08T08:25:29.407969800Z",
     "start_time": "2024-10-08T08:25:29.374318100Z"
    }
   },
   "id": "d6318d0b70087b83"
  },
  {
   "cell_type": "code",
   "execution_count": 29,
   "outputs": [
    {
     "name": "stdout",
     "output_type": "stream",
     "text": [
      "Help on class combinations_with_replacement in module itertools:\n",
      "\n",
      "class combinations_with_replacement(builtins.object)\n",
      " |  combinations_with_replacement(iterable, r)\n",
      " |  \n",
      " |  Return successive r-length combinations of elements in the iterable allowing individual elements to have successive repeats.\n",
      " |  \n",
      " |  combinations_with_replacement('ABC', 2) --> ('A','A'), ('A','B'), ('A','C'), ('B','B'), ('B','C'), ('C','C')\n",
      " |  \n",
      " |  Methods defined here:\n",
      " |  \n",
      " |  __getattribute__(self, name, /)\n",
      " |      Return getattr(self, name).\n",
      " |  \n",
      " |  __iter__(self, /)\n",
      " |      Implement iter(self).\n",
      " |  \n",
      " |  __next__(self, /)\n",
      " |      Implement next(self).\n",
      " |  \n",
      " |  __reduce__(...)\n",
      " |      Return state information for pickling.\n",
      " |  \n",
      " |  __setstate__(...)\n",
      " |      Set state information for unpickling.\n",
      " |  \n",
      " |  __sizeof__(...)\n",
      " |      Returns size in memory, in bytes.\n",
      " |  \n",
      " |  ----------------------------------------------------------------------\n",
      " |  Static methods defined here:\n",
      " |  \n",
      " |  __new__(*args, **kwargs) from builtins.type\n",
      " |      Create and return a new object.  See help(type) for accurate signature.\n"
     ]
    }
   ],
   "source": [
    "from itertools import combinations_with_replacement\n",
    "help(combinations_with_replacement)"
   ],
   "metadata": {
    "collapsed": false,
    "ExecuteTime": {
     "end_time": "2024-10-08T08:26:22.031861Z",
     "start_time": "2024-10-08T08:26:21.969315200Z"
    }
   },
   "id": "117424e2bdf104a0"
  },
  {
   "cell_type": "code",
   "execution_count": 37,
   "outputs": [
    {
     "name": "stdout",
     "output_type": "stream",
     "text": [
      "A A A A\n",
      "A A A B\n",
      "A A A C\n",
      "A A A D\n",
      "A A A E\n",
      "A A B B\n",
      "A A B C\n",
      "A A B D\n",
      "A A B E\n",
      "A A C C\n",
      "A A C D\n",
      "A A C E\n",
      "A A D D\n",
      "A A D E\n",
      "A A E E\n",
      "A B B B\n",
      "A B B C\n",
      "A B B D\n",
      "A B B E\n",
      "A B C C\n",
      "A B C D\n",
      "A B C E\n",
      "A B D D\n",
      "A B D E\n",
      "A B E E\n",
      "A C C C\n",
      "A C C D\n",
      "A C C E\n",
      "A C D D\n",
      "A C D E\n",
      "A C E E\n",
      "A D D D\n",
      "A D D E\n",
      "A D E E\n",
      "A E E E\n",
      "B B B B\n",
      "B B B C\n",
      "B B B D\n",
      "B B B E\n",
      "B B C C\n",
      "B B C D\n",
      "B B C E\n",
      "B B D D\n",
      "B B D E\n",
      "B B E E\n",
      "B C C C\n",
      "B C C D\n",
      "B C C E\n",
      "B C D D\n",
      "B C D E\n",
      "B C E E\n",
      "B D D D\n",
      "B D D E\n",
      "B D E E\n",
      "B E E E\n",
      "C C C C\n",
      "C C C D\n",
      "C C C E\n",
      "C C D D\n",
      "C C D E\n",
      "C C E E\n",
      "C D D D\n",
      "C D D E\n",
      "C D E E\n",
      "C E E E\n",
      "D D D D\n",
      "D D D E\n",
      "D D E E\n",
      "D E E E\n",
      "E E E E\n"
     ]
    }
   ],
   "source": [
    "from itertools import combinations_with_replacement\n",
    "lista = list(combinations_with_replacement('ABCDE', 4))\n",
    "for i in lista:\n",
    "    print(' '.join(i))\n",
    "    "
   ],
   "metadata": {
    "collapsed": false,
    "ExecuteTime": {
     "end_time": "2024-10-08T08:35:12.317091400Z",
     "start_time": "2024-10-08T08:35:12.300941900Z"
    }
   },
   "id": "80c5beda70e703c2"
  },
  {
   "cell_type": "code",
   "execution_count": 1,
   "outputs": [
    {
     "name": "stdout",
     "output_type": "stream",
     "text": [
      "Help on method randint in random:\n",
      "\n",
      "random.randint = randint(a, b) method of random.Random instance\n",
      "    Return random integer in range [a, b], including both end points.\n"
     ]
    }
   ],
   "source": [
    "from random import randint\n",
    "help('random.randint')\n",
    "set?"
   ],
   "metadata": {
    "collapsed": false,
    "ExecuteTime": {
     "end_time": "2024-10-22T07:45:32.377639400Z",
     "start_time": "2024-10-22T07:45:32.094399Z"
    }
   },
   "id": "87a8dd967cc3a573"
  },
  {
   "cell_type": "code",
   "execution_count": 3,
   "outputs": [
    {
     "data": {
      "text/plain": "1.0"
     },
     "execution_count": 3,
     "metadata": {},
     "output_type": "execute_result"
    }
   ],
   "source": [
    "from random import randint\n",
    "\n",
    "def same_birthday(nr_pers,nr_sim):\n",
    "    fav = 0\n",
    "    for i in range(nr_sim):\n",
    "        persoane = []\n",
    "        for i in range(nr_pers):\n",
    "            persoane.append(randint(1, 365))\n",
    "        if len(set(persoane)) != nr_pers:\n",
    "            fav+=1\n",
    "    return fav/nr_sim\n",
    "\n",
    "same_birthday(400,400)"
   ],
   "metadata": {
    "collapsed": false,
    "ExecuteTime": {
     "end_time": "2024-10-22T07:47:17.310393900Z",
     "start_time": "2024-10-22T07:47:16.490192700Z"
    }
   },
   "id": "ad908eb2c9eb934c"
  },
  {
   "cell_type": "code",
   "execution_count": 8,
   "outputs": [
    {
     "data": {
      "text/plain": "<Figure size 640x480 with 1 Axes>",
      "image/png": "[encoded data removed]"
     },
     "metadata": {},
     "output_type": "display_data"
    }
   ],
   "source": [
    "import math\n",
    "from random import randint\n",
    "from random import random\n",
    "from numpy import arange\n",
    "from math import dist\n",
    "from matplotlib.pyplot import plot, grid, title, show\n",
    "from matplotlib.pyplot import axis, plot, show\n",
    "n = int(input(\"Nr persoane:\"))\n",
    "nr_sim = int(input(\"Nr sim:\"))\n",
    "fav = 0\n",
    "\n",
    "def same_birthday2(nr_pers):\n",
    "    p = 1 # prob ca nr de pers sa aiba zile de nastere diff\n",
    "    for i in range(nr_pers):\n",
    "         p=p*(365-i)/362\n",
    "\n",
    "    return 1-p\n",
    "\n",
    "x = range(1,50)\n",
    "y=[same_birthday(n,nr_sim) for n in x]\n",
    "plot(x,y,\"ro\")\n",
    "yticks=arange(0,1.1,0.1)\n",
    "xticks = arange(0,55,5)\n",
    "title(\"Estimari din simulari\")\n",
    "grid()\n",
    "show()"
   ],
   "metadata": {
    "collapsed": false,
    "ExecuteTime": {
     "end_time": "2024-10-22T08:20:42.098578900Z",
     "start_time": "2024-10-22T08:20:30.081006900Z"
    }
   },
   "id": "df9e79e7a62cc70a"
  },
  {
   "cell_type": "code",
   "execution_count": 16,
   "outputs": [
    {
     "data": {
      "text/plain": "<Figure size 640x480 with 1 Axes>",
      "image/png": "[encoded data removed]"
     },
     "metadata": {},
     "output_type": "display_data"
    },
    {
     "name": "stdout",
     "output_type": "stream",
     "text": [
      "Frecventa:0.7746\n"
     ]
    },
    {
     "data": {
      "text/plain": "<Figure size 640x480 with 1 Axes>",
      "image/png": "[encoded data removed]"
     },
     "metadata": {},
     "output_type": "display_data"
    },
    {
     "name": "stdout",
     "output_type": "stream",
     "text": [
      "Frecventa:0.50121\n"
     ]
    }
   ],
   "source": [
    "A,B,C,D=[0,0],[1,0],[0,1],[1,1]\n",
    "E=[0.5,0.5]\n",
    "def patrat(nr_pct):\n",
    "    count = 0\n",
    "    for i in range(nr_pct):\n",
    "        F=[random(),random()]\n",
    "        if dist(F,E) < 0.5:\n",
    "            count+=1\n",
    "            plot(F[0],F[1],\"ro\")\n",
    "        else:\n",
    "            plot(F[0],F[1],'bo')\n",
    "    show()\n",
    "    return count/nr_pct\n",
    "print(f\"Frecventa:{patrat(5000)}\")\n",
    "axis(\"square\")\n",
    "\n",
    "def patrat2(nr_pct):\n",
    "    count = 0\n",
    "    A,B,C,D=[0,0],[1,0],[1,1],[0,1]\n",
    "    for i in range(nr_pct):\n",
    "        F=[random(),random()]\n",
    "        if dist(F,E) < min(dist(F,[0,0]),dist(F,[1,1]),dist(F,[1,0]),dist(F,D)):\n",
    "            count+=1\n",
    "            plot(F[0],F[1],\"ro\")\n",
    "        else:\n",
    "            plot(F[0],F[1],'bo')\n",
    "    show()\n",
    "    return count/nr_pct\n",
    "\n",
    "print(f\"Frecventa:{patrat2(100000)}\")\n",
    "show()"
   ],
   "metadata": {
    "collapsed": false,
    "ExecuteTime": {
     "end_time": "2024-10-22T08:48:30.484257700Z",
     "start_time": "2024-10-22T08:45:57.849937700Z"
    }
   },
   "id": "4e3cabd4c885eaf3"
  },
  {
   "cell_type": "code",
   "execution_count": null,
   "outputs": [],
   "source": [],
   "metadata": {
    "collapsed": false,
    "ExecuteTime": {
     "end_time": "2024-10-22T08:30:17.421433300Z",
     "start_time": "2024-10-22T08:30:17.405785800Z"
    }
   },
   "id": "eb49b8533c870ec4"
  },
  {
   "cell_type": "code",
   "execution_count": 8,
   "outputs": [],
   "source": [],
   "metadata": {
    "collapsed": false,
    "ExecuteTime": {
     "end_time": "2024-11-05T08:21:21.166221500Z",
     "start_time": "2024-11-05T08:21:21.134807400Z"
    }
   },
   "id": "ec63abdc582d4f85"
  },
  {
   "cell_type": "code",
   "execution_count": 6,
   "outputs": [
    {
     "name": "stdout",
     "output_type": "stream",
     "text": [
      "Help on method sample in module random:\n",
      "\n",
      "sample(population, k, *, counts=None) method of random.Random instance\n",
      "    Chooses k unique random elements from a population sequence or set.\n",
      "    \n",
      "    Returns a new list containing elements from the population while\n",
      "    leaving the original population unchanged.  The resulting list is\n",
      "    in selection order so that all sub-slices will also be valid random\n",
      "    samples.  This allows raffle winners (the sample) to be partitioned\n",
      "    into grand prize and second place winners (the subslices).\n",
      "    \n",
      "    Members of the population need not be hashable or unique.  If the\n",
      "    population contains repeats, then each occurrence is a possible\n",
      "    selection in the sample.\n",
      "    \n",
      "    Repeated elements can be specified one at a time or with the optional\n",
      "    counts parameter.  For example:\n",
      "    \n",
      "        sample(['red', 'blue'], counts=[4, 2], k=5)\n",
      "    \n",
      "    is equivalent to:\n",
      "    \n",
      "        sample(['red', 'red', 'red', 'red', 'blue', 'blue'], k=5)\n",
      "    \n",
      "    To choose a sample from a range of integers, use range() for the\n",
      "    population argument.  This is especially fast and space efficient\n",
      "    for sampling from a large population:\n",
      "    \n",
      "        sample(range(10000000), 60)\n"
     ]
    }
   ],
   "source": [
    "help(sample)"
   ],
   "metadata": {
    "collapsed": false,
    "ExecuteTime": {
     "end_time": "2024-11-05T08:14:51.300079800Z",
     "start_time": "2024-11-05T08:14:51.300079800Z"
    }
   },
   "id": "69ac63efc923fc14"
  },
  {
   "cell_type": "code",
   "execution_count": 7,
   "outputs": [],
   "source": [
    "from random import sample\n",
    "from math import comb,perm"
   ],
   "metadata": {
    "collapsed": false,
    "ExecuteTime": {
     "end_time": "2024-11-05T08:18:05.674707Z",
     "start_time": "2024-11-05T08:18:05.611799800Z"
    }
   },
   "id": "581d203f65534baa"
  },
  {
   "cell_type": "code",
   "execution_count": 20,
   "outputs": [
    {
     "name": "stdout",
     "output_type": "stream",
     "text": [
      "9.077023783547894%\n"
     ]
    }
   ],
   "source": [
    "lista = [\"rosu\",\"albastru\",\"verde\"]\n",
    "count_rosie = 0\n",
    "count_toate_rosii = 0\n",
    "repetitii = 5000\n",
    "for i in range(repetitii):\n",
    "    extrase = sample(lista,counts=[5,3,2],k=3);\n",
    "    if(\"rosu\" in extrase):\n",
    "        count_rosie +=1\n",
    "        if(len(set(extrase)) == 1):\n",
    "            count_toate_rosii += 1\n",
    "print(str((count_toate_rosii/count_rosie)*100) + '%')"
   ],
   "metadata": {
    "collapsed": false,
    "ExecuteTime": {
     "end_time": "2024-11-05T08:29:44.156387400Z",
     "start_time": "2024-11-05T08:29:44.108996900Z"
    }
   },
   "id": "cf8758b48131258c"
  },
  {
   "cell_type": "code",
   "execution_count": 23,
   "outputs": [
    {
     "name": "stdout",
     "output_type": "stream",
     "text": [
      "0.09090909090909091\n"
     ]
    }
   ],
   "source": [
    "prob_teoretica_ab = comb(5,3)/comb(10,3)\n",
    "prob_teoretica_a = 1- prob_teoretica_ab\n",
    "prob_b_cond_a_teoretica=prob_teoretica_ab/prob_teoretica_a\n",
    "print((prob_b_cond_a_teoretica))\n"
   ],
   "metadata": {
    "collapsed": false,
    "ExecuteTime": {
     "end_time": "2024-11-05T08:36:54.458891400Z",
     "start_time": "2024-11-05T08:36:54.433689200Z"
    }
   },
   "id": "8a08487629c9b6cb"
  },
  {
   "cell_type": "code",
   "execution_count": 33,
   "outputs": [
    {
     "data": {
      "text/plain": "<Figure size 640x480 with 1 Axes>",
      "image/png": "[encoded data removed]"
     },
     "metadata": {},
     "output_type": "display_data"
    }
   ],
   "source": [
    "from random import randrange\n",
    "from matplotlib.pyplot import bar, hist, grid, show, legend\n",
    "data = [randrange(1,7) for _ in range(15)]\n",
    "bin_edges = [k+0.5 for k in range(7)]\n",
    "hist(data, bin_edges, density = True, rwidth = 0.9, color = 'green', edgecolor = 'black',\n",
    "alpha = 0.5, label = 'frecvente relative')\n",
    "distribution = dict([(i,1/6) for i in range(1,7)])\n",
    "bar(distribution.keys(),distribution.values(), width = 0.85, color = 'red', edgecolor = 'black',\n",
    "alpha= 0.6, label = 'probabilitati')\n",
    "legend(loc = 'lower left')\n",
    "grid()\n",
    "show()"
   ],
   "metadata": {
    "collapsed": false,
    "ExecuteTime": {
     "end_time": "2024-11-05T08:59:55.042110500Z",
     "start_time": "2024-11-05T08:59:54.908193700Z"
    }
   },
   "id": "c0923d19f4101d40"
  },
  {
   "cell_type": "code",
   "execution_count": 35,
   "outputs": [
    {
     "ename": "NameError",
     "evalue": "name 'binom' is not defined",
     "output_type": "error",
     "traceback": [
      "\u001B[1;31m---------------------------------------------------------------------------\u001B[0m",
      "\u001B[1;31mNameError\u001B[0m                                 Traceback (most recent call last)",
      "Cell \u001B[1;32mIn[35], line 1\u001B[0m\n\u001B[1;32m----> 1\u001B[0m help(\u001B[43mbinom\u001B[49m\u001B[38;5;241m.\u001B[39mrsv)\n",
      "\u001B[1;31mNameError\u001B[0m: name 'binom' is not defined"
     ]
    }
   ],
   "source": [],
   "metadata": {
    "collapsed": false,
    "ExecuteTime": {
     "end_time": "2024-11-05T09:27:30.117967900Z",
     "start_time": "2024-11-05T09:27:30.075388600Z"
    }
   },
   "id": "dec90ed0268410a1"
  },
  {
   "cell_type": "code",
   "execution_count": 38,
   "outputs": [],
   "source": [
    "from scipy.stats import binom\n",
    "n,p = 5,0.6\n",
    "x = binom.rvs(n,p,size=1000)"
   ],
   "metadata": {
    "collapsed": false,
    "ExecuteTime": {
     "end_time": "2024-11-05T09:35:07.432852700Z",
     "start_time": "2024-11-05T09:35:07.401602200Z"
    }
   },
   "id": "17a342a544cb2466"
  },
  {
   "cell_type": "code",
   "execution_count": 39,
   "outputs": [
    {
     "data": {
      "text/plain": "<Figure size 640x480 with 1 Axes>",
      "image/png": "[encoded data removed]"
     },
     "metadata": {},
     "output_type": "display_data"
    }
   ],
   "source": [
    "from random import randrange\n",
    "from matplotlib.pyplot import bar, hist, grid, show, legend\n",
    "\n",
    "n,p = 5,0.6\n",
    "x = binom.rvs(n,p,size=1000)\n",
    "bin_edges = [k+0.5 for k in range(6)]\n",
    "hist(x, bin_edges, density = True, rwidth = 0.9, color = 'green', edgecolor = 'black',\n",
    "alpha = 0.5, label = 'frecvente relative')\n",
    "distribution = dict([(i,binom.pmf(i,n,p)) for i in range(6)])\n",
    "bar(distribution.keys(), distribution.values(), width = 0.85, color = 'red', edgecolor = 'black',\n",
    "alpha= 0.6, label = 'probabilitati')\n",
    "legend(loc = 'lower left')\n",
    "grid()\n",
    "show()"
   ],
   "metadata": {
    "collapsed": false,
    "ExecuteTime": {
     "end_time": "2024-11-05T09:35:10.409834600Z",
     "start_time": "2024-11-05T09:35:10.243124900Z"
    }
   },
   "id": "dc08d1850163c6fc"
  },
  {
   "cell_type": "code",
   "execution_count": 40,
   "outputs": [
    {
     "name": "stdout",
     "output_type": "stream",
     "text": [
      "p(2<X<=5) elastica este 0.6811\n",
      "P(2<X<=5) teoretica este 0.6825599999999998\n"
     ]
    }
   ],
   "source": [
    "n,p = 5,0.6\n",
    "nr_sim=10000\n",
    "x = binom.rvs(n,p,size=nr_sim)\n",
    "\n",
    "print(\"p(2<X<=5) elastica este\", sum([(2<k)&(k<=5) for k in x])/nr_sim)\n",
    "print(\"P(2<X<=5) teoretica este\",binom.cdf(5,n,p)-binom.cdf(2,n,p))"
   ],
   "metadata": {
    "collapsed": false,
    "ExecuteTime": {
     "end_time": "2024-11-05T09:53:24.256279800Z",
     "start_time": "2024-11-05T09:53:24.193759900Z"
    }
   },
   "id": "c13bf4bb47453257"
  },
  {
   "cell_type": "code",
   "execution_count": 6,
   "outputs": [
    {
     "name": "stdout",
     "output_type": "stream",
     "text": [
      "[0, 1, 0, 1, 0, 1, 2, 3, 4, 5, 6]\n",
      "[0, -1, -2, -3, -2, -1, -2, -3, -2, -3, -4]\n"
     ]
    },
    {
     "data": {
      "text/plain": "<Figure size 640x480 with 1 Axes>",
      "image/png": "[encoded data removed]"
     },
     "metadata": {},
     "output_type": "display_data"
    },
    {
     "data": {
      "text/plain": "<Figure size 640x480 with 1 Axes>",
      "image/png": "[encoded data removed]"
     },
     "metadata": {},
     "output_type": "display_data"
    }
   ],
   "source": [
    "from scipy.stats import bernoulli, binom\n",
    "from matplotlib.pyplot import bar, show, hist, grid, legend, xticks\n",
    "\n",
    "def pas(p):\n",
    "    return bernoulli.rvs(p)\n",
    "\n",
    "def deplasare(p, r):\n",
    "    lista = []\n",
    "    poz = 0\n",
    "    lista.append(poz)\n",
    "    for i in range(r):\n",
    "        if pas(p) == 1:\n",
    "            poz += 1\n",
    "            lista.append(poz)\n",
    "        else:\n",
    "            poz -= 1\n",
    "            lista.append(poz)\n",
    "    return lista\n",
    "\n",
    "print(deplasare(0.5, 10))\n",
    "print(deplasare(0.25, 10))\n",
    "\n",
    "# print(deplasare(0.5, 10))\n",
    "\n",
    "\n",
    "# histograma(p, r)\n",
    "# p - probabilitatea de a merge inainte\n",
    "# r - numarul de pasi\n",
    "# afiseaza histograma pozitiilor finale\n",
    "def histograma(p, r):\n",
    "    data = []\n",
    "    for i in range(1000):\n",
    "        data.append(deplasare(p, r)[-1])\n",
    "    bin_edges = [k + 0.5 for k in range(-r - 1, r + 1)]\n",
    "    hist(data, bins=bin_edges, density=True, color='green', edgecolor='black')\n",
    "    xticks(range(-r, r + 1))\n",
    "    show()\n",
    "\n",
    "\n",
    "# histograma(0.5, 10)\n",
    "\n",
    "# deplasarea pt cerc\n",
    "\n",
    "# deplasare_cerc(p, r)\n",
    "# p - probabilitatea de a merge inainte\n",
    "# r - numarul de pasi\n",
    "# n - nr de noduri\n",
    "# returneaza o lista cu pozitiile la fiecare pas pe cerc\n",
    "def deplasare_cerc(p, r, n):\n",
    "    lista = []\n",
    "    poz = 0\n",
    "    lista.append(poz)\n",
    "    for i in range(r):\n",
    "        if pas(p) == 1:\n",
    "            poz += 1\n",
    "            if poz > n:\n",
    "                poz = 0\n",
    "            lista.append(poz)\n",
    "        else:\n",
    "            poz -= 1\n",
    "            if poz < 0:\n",
    "                poz = n - 1\n",
    "            lista.append(poz)\n",
    "    return lista\n",
    "\n",
    "def histograma_cerc(p, r, n):\n",
    "    data = []\n",
    "    for i in range(1000):\n",
    "        data.append(deplasare_cerc(p, r, n)[-1])\n",
    "    bin_edges = [k + 0.5 for k in range(-1, r)]\n",
    "    hist(data, bins=bin_edges, density=True, color='green', edgecolor='black')\n",
    "    xticks(range(-1, r))\n",
    "    show()\n",
    "\n",
    "\n",
    "histograma(0.5, 10)\n",
    "\n",
    "histograma_cerc(0.5, 10, 10)"
   ],
   "metadata": {
    "collapsed": false,
    "ExecuteTime": {
     "end_time": "2024-11-19T09:06:29.318048900Z",
     "start_time": "2024-11-19T09:06:25.213331500Z"
    }
   },
   "id": "8add853fef7d3feb"
  },
  {
   "cell_type": "code",
   "execution_count": 8,
   "outputs": [
    {
     "name": "stdout",
     "output_type": "stream",
     "text": [
      "[129 175 175  42  51  47  17   9  49  50  76 281  11 112  37 143  40  50\n",
      "  20  73  29   9 103   3  32  52   3  39  14 119  52  53 160   4  20  28\n",
      "  42  27 123 108   8  67   7  56  28  24  22  57  67  15 144  20  44  20\n",
      " 227   5  51  73  74  37  22  52  21   8  78  46  10 155  13   8  31  53\n",
      "   5  28  19   6   9  19 212  30  96 114  19  17  24 175  32   3 157  42\n",
      "  13 181  17  15 112   8 137  13  64  27  57  27  56 182  31  46   1   8\n",
      "  65   7  80  37 154  69 195  55  61  19   2 117 129  25   5  13 117  29\n",
      " 120  46  30  44  45  50  58  80   4  30  46  43 232 128  81  81  46   1\n",
      "  14  15 198  56  58  18  67  27 165  13   2   2  23  19  17  11  14  14\n",
      "  20 107   8  73 120  56  33  35  20 177  81  21  53 157   3  17   4 117\n",
      "  81  92 147  79  36  13   7  49  92   1   2  16 142  13  56  20 125 100\n",
      "   3   5  69  30  76  34  42  19   9 107 125  16  58  93  28  12  90  36\n",
      "  55  36  97  32  41 105  23  59   5  11   2   7  42 126  70  17  12  18\n",
      "  16  66  31  22  62  40   1   9  20  11  84  23  24  81  47  13  48  25\n",
      " 110  16   7 115 115  21  54  34 101  33  17  26  28   5  26  44  20  48\n",
      "  25 100  36  77 103  62  36  11 311  51  20   7  63  38  31  20  19  24\n",
      "   9  48   2   3  15   3   7 169  35  17  19  41  22  98  10   1  49  23\n",
      "  11  19 111   3  15   7   5 103  36  11  20  10   1  81  13  14  41  21\n",
      "  79  17  14  28  87  11  28  57  65 116 237  18  68  72  48  16  51  99\n",
      "  56  60  19  51   3 234  38  33  63  81  23 106  27 241  59  83   9 300\n",
      "  11  23  20   6  22  13  59  50  16  60   1   5  33  36  29  28  26  26\n",
      "  48  15   9  28  15  66  45   2  66 146  23  24   5  63  17   6  48  32\n",
      "  25   1 114  37  17  19  61   4 137 135 119  90  82 170  70 165  48  32\n",
      "  66  28  14  15  10 278  14 162  22  22  12 117  15   7  48  39 128  19\n",
      "   6 120  24  61   6  13  19  79   2  31  33  78   5  81  20  23   7  90\n",
      "  11 156  20   7  15   3   5  24  84  22  18  27  22 131  47  48  42 153\n",
      "  80  15  46  62  22  39   6  74  51 105  57  79  21   7 417  46   6  97\n",
      "  20  35  66   5   8  35 106 207   2 118  98  60 228  39 157   4  98   2\n",
      "  52  65  25  29  46   7  58   3  27   5  36  15  64 112  12  15  30 122\n",
      "  24  42   5   7  58   6  12  12 120  16  36  20   6   7 125  92   6  18\n",
      " 117  85  59   3  83  60  36   1   5  50  16  29  19   4 138 100  13  57\n",
      "   8  11  37  63 133  15  58  25   2   8  14  36  53  81  34   7  38 116\n",
      "  30  14   6  25  97  70  23  59   3  32   8 103  38  18  19   6  47  11\n",
      "  43  54  13 142  18  89  26  11  20  53  46  42 184  21  83  40 188   5\n",
      "  17  20 123  13   8   3   9  20  16  90  94  56  70  55  58  68  51   8\n",
      " 127  79  37 118  45  31   3  87   7  29 192  64   4  59   7  99 159 188\n",
      "  53  41  44  88  71  58   3 153  49  68  18  32  20  33  11   4  75 167\n",
      "   6  42  29  12   4   5  55  10  32 124  21  29  12  11  40 116 126   3\n",
      "  53 139   1 180  30  11   5   9  34  35  55  44  46  95  33  65  36 115\n",
      "  59  19  26 345 162  70  15  26  57   3  11  10  41 129 109 121  84  58\n",
      "  58  99  23  81   8 186   1  64  22 109   2  46  59  74   5  53  20  67\n",
      "  87  32  39  42   9  76  14   2   8  30  24  19  12  86  68  71   2  47\n",
      " 122  11 235  54  53  39  24   8  31  18  14   3 138 200  58  20 151  46\n",
      " 120  23 184  10  15  90 111  45 216  42 185  30  94  56  36 142  55 223\n",
      "  44  56  49  25 109  23  50  16  35  26  94  19  82 104  28   6 101  36\n",
      "  49 197  93 210 171   4  73  12 116  58  58  62  53  48  90  64  40  17\n",
      "  20   4   7  66  47  60   9   8  80   6   6  91  27  17 286  13  20  20\n",
      "  24 116  44  11  26  81 107  40  81  57  62 104 115   4  13  17  44  46\n",
      "   7  40  17  33  15  67  68 115  13  32  43  15 260   5   4  46  26   7\n",
      "   6  95  59   5  68  79 135  66  24  25  36  12  78  17  59  12  24  47\n",
      "  10  20  10 111 143  10  17  81  50  74  37   4  48  32  72  12  89 262\n",
      "  61   4  40  73  67  49  11  31  21  39  33  80 151 230  23   1   8  36\n",
      " 182 141  10 142  93  95 120  20  36  13  54  78  16   4  14  26  75   6\n",
      "  88  18  57   3 175  41 109   9  65  52   2 208   1 148  43  47   3 155\n",
      "   9  54  81  12  54  13  42   9  61 107  41  46  40 134  17  13 104  59\n",
      "   1   7   8  55  37  16  12  14  38 142]\n"
     ]
    }
   ],
   "source": [
    "from scipy.stats import hypergeom, geom\n",
    "\n",
    "nr_sim = 1000\n",
    "\n",
    "p = sum([hypergeom.pmf(k, 49, 6, 6) for k in range(3,7)])\n",
    "nr_bile_necastigatoare = geom.rvs(p, size = nr_sim)\n",
    "print(nr_bile_necastigatoare)"
   ],
   "metadata": {
    "collapsed": false,
    "ExecuteTime": {
     "end_time": "2024-11-19T09:42:33.118065500Z",
     "start_time": "2024-11-19T09:42:32.960655500Z"
    }
   },
   "id": "11c3c84e82b7cc5f"
  },
  {
   "cell_type": "code",
   "execution_count": null,
   "outputs": [],
   "source": [],
   "metadata": {
    "collapsed": false
   },
   "id": "a9ba1936fef4b805"
  }
 ],
 "metadata": {
  "kernelspec": {
   "display_name": "Python 3",
   "language": "python",
   "name": "python3"
  },
  "language_info": {
   "codemirror_mode": {
    "name": "ipython",
    "version": 2
   },
   "file_extension": ".py",
   "mimetype": "text/x-python",
   "name": "python",
   "nbconvert_exporter": "python",
   "pygments_lexer": "ipython2",
   "version": "2.7.6"
  }
 },
 "nbformat": 4,
 "nbformat_minor": 5
}
