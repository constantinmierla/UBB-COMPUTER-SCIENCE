{
 "cells": [
  {
   "cell_type": "code",
   "execution_count": 47,
   "id": "ab67291e-e258-49f5-ba34-ec9f371532db",
   "metadata": {},
   "outputs": [
    {
     "name": "stdout",
     "output_type": "stream",
     "text": [
      "si\n"
     ]
    }
   ],
   "source": [
    "#ex 1\n",
    "#Să se determine ultimul (din punct de vedere alfabetic) cuvânt care poate apărea într-un text\n",
    "#care conține mai multe cuvinte separate prin ” ” (spațiu). \n",
    "#De ex. ultimul (dpdv alfabetic) cuvânt din ”Ana are mere rosii si galbene” este cuvântul \"si\".\n",
    "def last_word(x):\n",
    "    x = x.split(' ')\n",
    "    x.sort(reverse = True)\n",
    "    return x[0]\n",
    "print(last_word('Ana are mere rosii si galbene'))\n",
    "#Time : O(n log n)\n",
    "#Space : O(n)"
   ]
  },
  {
   "cell_type": "code",
   "execution_count": 48,
   "id": "27638946-7fa0-43db-b292-fba94b762163",
   "metadata": {},
   "outputs": [
    {
     "name": "stdout",
     "output_type": "stream",
     "text": [
      "si\n"
     ]
    }
   ],
   "source": [
    "#ex 1 AI\n",
    "def ultimul_alfabetic(text):\n",
    "    cuvinte = text.split()  # Împarte textul în cuvinte\n",
    "    return max(cuvinte) if cuvinte else None  # Returnează cuvântul maxim\n",
    "\n",
    "# Test\n",
    "text = \"Ana are mere rosii si galbene\"\n",
    "print(ultimul_alfabetic(text))  # Output: \"si\"\n",
    "#Time : O(n)\n",
    "#Space : O(n)\n",
    "#Faster than mine"
   ]
  },
  {
   "cell_type": "code",
   "execution_count": 49,
   "id": "ce9d7a64-2aff-4ac6-8868-252fd73c73eb",
   "metadata": {},
   "outputs": [
    {
     "name": "stdout",
     "output_type": "stream",
     "text": [
      "5.0\n"
     ]
    }
   ],
   "source": [
    "#ex 2\n",
    "#Să se determine distanța Euclideană între două locații identificate prin perechi de numere. \n",
    "#De ex. distanța între (1,5) și (4,1) este 5.0\n",
    "import math\n",
    "def euclidean(x1, x2, y1, y2):\n",
    "    return math.sqrt(abs(x1-x2)**2 + abs(y1-y2) ** 2)\n",
    "print(euclidean(1, 5, 4, 1))\n",
    "#Time : O(1)\n",
    "#Space : O(1)"
   ]
  },
  {
   "cell_type": "code",
   "execution_count": 50,
   "id": "20d44262-1a9e-4e3b-972a-6d8136e32e4c",
   "metadata": {},
   "outputs": [
    {
     "name": "stdout",
     "output_type": "stream",
     "text": [
      "5.0\n"
     ]
    }
   ],
   "source": [
    "#ex 2 AI\n",
    "import math\n",
    "\n",
    "def distanta_euclidiana(x1, y1, x2, y2):\n",
    "    return math.sqrt((x2 - x1)**2 + (y2 - y1)**2)\n",
    "\n",
    "# Test\n",
    "print(distanta_euclidiana(1, 5, 4, 1))  # Output: 5.0\n",
    "#Time : O(1)\n",
    "#Space : O(1)\n",
    "#Identical except the use of abs which wasn't necessary"
   ]
  },
  {
   "cell_type": "code",
   "execution_count": 52,
   "id": "9d52c7e4-0136-43d1-b6b8-c8248fa337b4",
   "metadata": {},
   "outputs": [
    {
     "name": "stdout",
     "output_type": "stream",
     "text": [
      "4\n"
     ]
    }
   ],
   "source": [
    "#ex 3\n",
    "#Să se determine produsul scalar a doi vectori rari care conțin numere reale. \n",
    "#Un vector este rar atunci când conține multe elemente nule. Vectorii pot avea oricâte dimensiuni. \n",
    "#De ex. produsul scalar a 2 vectori unisimensionali [1,0,2,0,3] și [1,2,0,3,1] este 4.\n",
    "def produs(x, y):\n",
    " return sum(a * b for a, b in zip(x, y))\n",
    "print(produs([1,0,2,0,3], [1,2,0,3,1]))\n",
    "#Time : O(n)\n",
    "#Space : O(n)"
   ]
  },
  {
   "cell_type": "code",
   "execution_count": null,
   "id": "62bd4e47-683d-44d3-911c-aafbd87657e9",
   "metadata": {},
   "outputs": [],
   "source": [
    "#ex 3 AI\n",
    "def produs_scalar(v1, v2):\n",
    "    # Asigură-te că vectorii au aceeași dimensiune\n",
    "    if len(v1) != len(v2):\n",
    "        raise ValueError(\"Vectorii trebuie să aibă aceeași dimensiune.\")\n",
    "    \n",
    "    produs = 0\n",
    "    for i in range(len(v1)):\n",
    "        if v1[i] != 0 and v2[i] != 0:  # Doar dacă ambele valori sunt nenule\n",
    "            produs += v1[i] * v2[i]\n",
    "    \n",
    "    return produs\n",
    "\n",
    "# Test\n",
    "v1 = [1, 0, 2, 0, 3]\n",
    "v2 = [1, 2, 0, 3, 1]\n",
    "print(produs_scalar(v1, v2))  # Output: 4\n",
    "#Time : O(n)\n",
    "#Space : O(1)\n",
    "#Faster in space due to zip which create a temporary list"
   ]
  },
  {
   "cell_type": "code",
   "execution_count": 53,
   "id": "87157df1-7b92-4b1f-854a-14f1e207bb45",
   "metadata": {},
   "outputs": [
    {
     "name": "stdout",
     "output_type": "stream",
     "text": [
      "mere\n",
      "rosii\n"
     ]
    }
   ],
   "source": [
    "#ex 4\n",
    "#Să se determine cuvintele unui text care apar exact o singură dată în acel text. \n",
    "#De ex. cuvintele care apar o singură dată în ”ana are ana are mere rosii ana\" sunt: 'mere' și 'rosii'.\n",
    "def cuvinte(s):\n",
    "    hash = {}\n",
    "    s = s.split(' ')\n",
    "    for el in s:\n",
    "        if el not in hash:\n",
    "            hash[el] = 1\n",
    "        else:\n",
    "            hash[el] += 1\n",
    "    for el in hash:\n",
    "        if hash[el] == 1:\n",
    "            print(el)\n",
    "cuvinte('ana are ana are mere rosii ana')\n",
    "#Time:  O(n) , where  n  is the number of characters in the text.\n",
    "#Space:  O(m) , where  m  is the number of unique words (for storing frequencies)."
   ]
  },
  {
   "cell_type": "code",
   "execution_count": 54,
   "id": "71910cd8-1f4e-4ce3-b338-8e9db6583ab1",
   "metadata": {},
   "outputs": [
    {
     "name": "stdout",
     "output_type": "stream",
     "text": [
      "['mere', 'rosii']\n"
     ]
    }
   ],
   "source": [
    "#ex 4 AI\n",
    "from collections import Counter\n",
    "\n",
    "def cuvinte_unice(text):\n",
    "    cuvinte = text.split()  # Împărțim textul în cuvinte\n",
    "    frecvente = Counter(cuvinte)  # Numărăm frecvența fiecărui cuvânt\n",
    "    return [cuvant for cuvant, frecventa in frecvente.items() if frecventa == 1]  # Filtrăm cuvintele care apar o singură dată\n",
    "\n",
    "# Test\n",
    "text = \"ana are ana are mere rosii ana\"\n",
    "print(cuvinte_unice(text))  # Output: ['mere', 'rosii']\n",
    "#Time:  O(n) , where  n  is the number of characters in the text.\n",
    "#Space:  O(m) , where  m  is the number of unique words (for storing frequencies).\n",
    "#Identical"
   ]
  },
  {
   "cell_type": "code",
   "execution_count": 55,
   "id": "f63c5ac3-bfbc-406e-9eed-18aaf6fd7302",
   "metadata": {},
   "outputs": [
    {
     "name": "stdout",
     "output_type": "stream",
     "text": [
      "2\n"
     ]
    }
   ],
   "source": [
    "#ex 5\n",
    "#Pentru un șir cu n elemente care conține valori din mulțimea {1, 2, ..., n - 1} \n",
    "#astfel încât o singură valoare se repetă de două ori, să se identifice acea valoare care se repetă. \n",
    "#De ex. în șirul [1,2,3,4,2] valoarea 2 apare de două ori.\n",
    "def multime(x):\n",
    "    sum = 0\n",
    "    for el in x:\n",
    "        sum += el\n",
    "    gauss = len(x)*(len(x)-1) // 2\n",
    "    return sum - gauss\n",
    "print(multime([1,2,3,4,2]))\n",
    "assert(multime([1,2,3,4,2]) == 2)\n",
    "assert(multime([1,2,1]) == 1)\n",
    "#Time : O(n)\n",
    "#Space : O(1)"
   ]
  },
  {
   "cell_type": "code",
   "execution_count": 56,
   "id": "2fc264d2-1371-4418-b0a2-c1e59229a72e",
   "metadata": {},
   "outputs": [
    {
     "name": "stdout",
     "output_type": "stream",
     "text": [
      "2\n"
     ]
    }
   ],
   "source": [
    "#ex 5 AI\n",
    "def valoare_repetata(sir):\n",
    "    valori_vizitate = set()  # Set pentru a urmări valorile întâlnite\n",
    "    for numar in sir:\n",
    "        if numar in valori_vizitate:\n",
    "            return numar  # Dacă valoarea a mai fost întâlnită, o returnăm\n",
    "        valori_vizitate.add(numar)  # Adăugăm valoarea în set\n",
    "    return None  # Teoretic nu ar trebui să ajungem aici, deoarece există întotdeauna o valoare repetată\n",
    "\n",
    "# Test\n",
    "sir = [1, 2, 3, 4, 2]\n",
    "print(valoare_repetata(sir))  # Output: 2\n",
    "#Time : O(n)\n",
    "#Space : O(n)\n",
    "#Mine is faster due to not memorating any set/list of numbers"
   ]
  },
  {
   "cell_type": "code",
   "execution_count": 60,
   "id": "51914af9-51ea-4a1d-843e-b80fb8590045",
   "metadata": {},
   "outputs": [
    {
     "name": "stdout",
     "output_type": "stream",
     "text": [
      "2\n"
     ]
    }
   ],
   "source": [
    "#ex 6\n",
    "#Pentru un șir cu n numere întregi care conține și duplicate, să se determine elementul majoritar \n",
    "#(care apare de mai mult de n / 2 ori). \n",
    "#De ex. 2 este elementul majoritar în șirul [2,8,7,2,2,5,2,3,1,2,2].\n",
    "def duplicate(x):\n",
    "    hash = {}\n",
    "    maxi = -1\n",
    "    res = 0\n",
    "    for el in x:\n",
    "        if el not in hash:\n",
    "            hash[el] = 0\n",
    "        hash[el] += 1\n",
    "        if hash[el] > maxi:\n",
    "            maxi = hash[el]\n",
    "            res = el\n",
    "    return res if hash[res] >= len(x)//2 else None\n",
    "print(duplicate([2,8,7,2,2,5,2,3,1,2,2]))\n",
    "#Time : O(n)\n",
    "#Space : O(n)"
   ]
  },
  {
   "cell_type": "code",
   "execution_count": 61,
   "id": "b3562eb8-daf2-4642-8a99-8374c4631b73",
   "metadata": {},
   "outputs": [
    {
     "name": "stdout",
     "output_type": "stream",
     "text": [
      "2\n"
     ]
    }
   ],
   "source": [
    "#ex 6 AI\n",
    "def element_majoritar(sir):\n",
    "    # Pasul 1: Găsirea candidatului\n",
    "    candidat = None\n",
    "    numar_voturi = 0\n",
    "    \n",
    "    for numar in sir:\n",
    "        if numar_voturi == 0:\n",
    "            candidat = numar\n",
    "        numar_voturi += (1 if numar == candidat else -1)\n",
    "    \n",
    "    # Pasul 2: Verificăm dacă candidatul este majoritar\n",
    "    count = sir.count(candidat)\n",
    "    if count > len(sir) // 2:\n",
    "        return candidat\n",
    "    return None  # Dacă nu există element majoritar\n",
    "\n",
    "# Test\n",
    "sir = [2, 8, 7, 2, 2, 5, 2, 3, 1, 2, 2]\n",
    "print(element_majoritar(sir))  # Output: 2\n",
    "#Time : O(n)\n",
    "#Space : O(1)\n",
    "#Faster due to dictionary"
   ]
  },
  {
   "cell_type": "code",
   "execution_count": 62,
   "id": "b0d36224-d63d-45ab-b95b-c7a02aa3eb4d",
   "metadata": {},
   "outputs": [
    {
     "name": "stdout",
     "output_type": "stream",
     "text": [
      "7\n"
     ]
    }
   ],
   "source": [
    "#ex 7\n",
    "#Să se determine al k-lea cel mai mare element al unui șir de numere cu n elemente (k < n). \n",
    "#De ex. al 2-lea cel mai mare element din șirul [7,4,6,3,9,1] este 7.\n",
    "def kth_element(k, list):\n",
    "    list.sort(reverse = True)\n",
    "    return list[k-1]\n",
    "print(kth_element(2, [7,4,6,3,9,1]))\n",
    "assert(kth_element(2, [7,4,6,3,9,1]) == 7)\n",
    "#Time : O(n log n)\n",
    "#Space : O(1)"
   ]
  },
  {
   "cell_type": "code",
   "execution_count": 63,
   "id": "07eccb47-cfab-4536-91a7-1eedccf82af4",
   "metadata": {},
   "outputs": [
    {
     "name": "stdout",
     "output_type": "stream",
     "text": [
      "7\n"
     ]
    }
   ],
   "source": [
    "#ex 7 AI\n",
    "def k_cea_mai_mare(sir, k):\n",
    "    sir.sort(reverse=True)  # Sortăm în ordine descrescătoare\n",
    "    return sir[k-1]  # Returnăm al k-lea cel mai mare element\n",
    "\n",
    "# Test\n",
    "print(k_cea_mai_mare([7, 4, 6, 3, 9, 1], 2))  # Output: 7\n",
    "#Time : O(n log n)\n",
    "#Space : O(1)\n",
    "#Identical"
   ]
  },
  {
   "cell_type": "code",
   "execution_count": 65,
   "id": "ddd77fa0-ccd0-4bdc-ab02-7fd4f08fba20",
   "metadata": {},
   "outputs": [
    {
     "name": "stdout",
     "output_type": "stream",
     "text": [
      "1\n",
      "10\n",
      "11\n",
      "100\n",
      "101\n",
      "110\n",
      "111\n",
      "1000\n"
     ]
    }
   ],
   "source": [
    "#ex 8\n",
    "#Să se genereze toate numerele (în reprezentare binară) cuprinse între 1 și n. De ex. dacă n = 4, numerele sunt: 1, 10, 11, 100.\n",
    "from queue import Queue\n",
    "def generate_binary(n):\n",
    "    el = Queue()\n",
    "    el.put('1')\n",
    "    for i in range(n):\n",
    "        x = el.get()\n",
    "        print(x)\n",
    "        el.put(x + '0')\n",
    "        el.put(x + '1')\n",
    "\n",
    "generate_binary(8)\n",
    "#Time : O(n)\n",
    "#Space : O(n)"
   ]
  },
  {
   "cell_type": "code",
   "execution_count": 66,
   "id": "2be5a9f8-a56d-44e9-967b-a7498163ba9a",
   "metadata": {},
   "outputs": [
    {
     "name": "stdout",
     "output_type": "stream",
     "text": [
      "['1', '10', '11', '100']\n"
     ]
    }
   ],
   "source": [
    "#ex 8 AI\n",
    "def generate_binary_numbers(n):\n",
    "    return [bin(i)[2:] for i in range(1, n + 1)]  # Generăm numerele binare de la 1 la n\n",
    "\n",
    "# Test\n",
    "print(generate_binary_numbers(4))  # Output: ['1', '10', '11', '100']\n",
    "#Time : O(n)\n",
    "#Space : O(n)\n",
    "#This solution is pythonic while mine isn't"
   ]
  },
  {
   "cell_type": "code",
   "execution_count": 67,
   "id": "a7cd2a6a-a01c-4731-b9d7-26176068341c",
   "metadata": {},
   "outputs": [
    {
     "name": "stdout",
     "output_type": "stream",
     "text": [
      "38\n",
      "44\n"
     ]
    }
   ],
   "source": [
    "#ex 9\n",
    "#Considerându-se o matrice cu n x m elemente întregi și o listă cu perechi formate din \n",
    "#coordonatele a 2 căsuțe din matrice ((p,q) și (r,s)), \n",
    "#să se calculeze suma elementelor din sub-matricile identificate de fieare pereche.\n",
    "def sum_matrix(matrix, x, y):\n",
    "    sum = 0\n",
    "    for i in range(x[0], y[0]+1):\n",
    "        for j in range(x[1], y[1]+1):\n",
    "           sum += matrix[i][j]\n",
    "    return sum\n",
    "\n",
    "matrix = [[0, 2, 5, 4, 1],\n",
    "[4, 8, 2, 3, 7],\n",
    "[6, 3, 4, 6, 2],\n",
    "[7, 3, 1, 8, 3],\n",
    "[1, 5, 7, 9, 4]]\n",
    "print(sum_matrix(matrix, [1, 1] , [3, 3]))\n",
    "print(sum_matrix(matrix, [2, 2] , [4, 4]))\n",
    "#Time : O(n x m) worst\n",
    "#Space : O(1)"
   ]
  },
  {
   "cell_type": "code",
   "execution_count": 1,
   "id": "45725c8a-2bda-490d-afc4-358b98919c11",
   "metadata": {},
   "outputs": [
    {
     "name": "stdout",
     "output_type": "stream",
     "text": [
      "[14, 34]\n"
     ]
    }
   ],
   "source": [
    "#ex 9 AI\n",
    "def suma_submatrice(matrice, perechi):\n",
    "    n = len(matrice)\n",
    "    m = len(matrice[0]) if n > 0 else 0\n",
    "    rezultate = []\n",
    "    \n",
    "    for (p, q, r, s) in perechi:\n",
    "        suma = 0\n",
    "        for i in range(p, r+1):  # Parcurgem rândurile între p și r\n",
    "            for j in range(q, s+1):  # Parcurgem coloanele între q și s\n",
    "                suma += matrice[i][j]  # Adunăm elementul curent la sumă\n",
    "        rezultate.append(suma)\n",
    "    \n",
    "    return rezultate\n",
    "\n",
    "# Exemplu de test\n",
    "matrice = [\n",
    "    [1, 2, 3, 4],\n",
    "    [5, 6, 7, 8],\n",
    "    [9, 10, 11, 12]\n",
    "]\n",
    "\n",
    "perechi = [\n",
    "    (0, 0, 1, 1),  # Sub-matricea de la (0,0) la (1,1)\n",
    "    (1, 1, 2, 2)   # Sub-matricea de la (1,1) la (2,2)\n",
    "]\n",
    "\n",
    "# Apel funcție\n",
    "print(suma_submatrice(matrice, perechi))  # Output: [14, 37]\n",
    "#Time : O(n x m) worst\n",
    "#Space : O(k) - to memorize the results\n",
    "#The output is wrong on this one."
   ]
  },
  {
   "cell_type": "code",
   "execution_count": 69,
   "id": "4bf30ca3-3e16-4e98-ae9d-9d91da9766d0",
   "metadata": {},
   "outputs": [
    {
     "name": "stdout",
     "output_type": "stream",
     "text": [
      "1\n"
     ]
    }
   ],
   "source": [
    "#ex 10\n",
    "#Considerându-se o matrice cu n x m elemente binare (0 sau 1) sortate crescător pe linii,\n",
    "#să se identifice indexul liniei care conține cele mai multe elemente de 1.\n",
    "def most_1s(matrix):\n",
    "    index = 0\n",
    "    most = -1\n",
    "    most_index = -1\n",
    "    for line in matrix:\n",
    "        sum = 0\n",
    "        for el in line:\n",
    "            sum += el\n",
    "        if sum > most:\n",
    "            most = sum\n",
    "            most_index = index\n",
    "        index += 1\n",
    "    return most_index\n",
    "print(most_1s([[0,0,0,1,1],[0,1,1,1,1],[0,0,1,1,1]]))\n",
    "assert(most_1s([[1,0,1,1,1],[0,1,1,1,1],[0,0,1,1,1], [1,1,1,1,1]]) == 3)\n",
    "assert(most_1s([[0,0,0,0]]) == 0)\n",
    "#Time : O(n x m)\n",
    "#Space : O(1)"
   ]
  },
  {
   "cell_type": "code",
   "execution_count": 70,
   "id": "c51b4094-9b3f-48d5-8af3-3eda802771c6",
   "metadata": {},
   "outputs": [
    {
     "name": "stdout",
     "output_type": "stream",
     "text": [
      "1\n"
     ]
    }
   ],
   "source": [
    "#ex 10 AI\n",
    "import bisect\n",
    "\n",
    "def find_row_with_most_ones(matrix):\n",
    "    max_ones = -1\n",
    "    row_index = -1\n",
    "    \n",
    "    for i, row in enumerate(matrix):\n",
    "        # Folosim bisect_left pentru a găsi primul 1\n",
    "        idx = bisect.bisect_left(row, 1)\n",
    "        \n",
    "        # Dacă există un 1 în această linie\n",
    "        if idx < len(row):\n",
    "            count_ones = len(row) - idx  # Numărul de 1 în linie\n",
    "            if count_ones > max_ones:\n",
    "                max_ones = count_ones\n",
    "                row_index = i\n",
    "                \n",
    "    return row_index\n",
    "\n",
    "matrix = [\n",
    "    [0, 0, 0, 1, 1],\n",
    "    [0, 1, 1, 1, 1],\n",
    "    [0, 0, 1, 1, 1]\n",
    "]\n",
    "\n",
    "print(find_row_with_most_ones(matrix))  # Va returna 1 (a doua linie)\n",
    "#Time : O(n log m)\n",
    "#Space : O(1)\n",
    "#This is faster, but if i would have used binary search both should be equal in terms of time and space complexity"
   ]
  },
  {
   "cell_type": "code",
   "execution_count": 73,
   "id": "1188070e-f804-4963-8c08-06c1d6dcf96b",
   "metadata": {},
   "outputs": [
    {
     "name": "stdout",
     "output_type": "stream",
     "text": [
      "[1, 1, 1, 1, 0, 0, 1, 1, 0, 1]\n",
      "[1, 1, 1, 1, 1, 0, 1, 1, 1, 1]\n",
      "[1, 1, 1, 1, 1, 1, 1, 1, 1, 1]\n",
      "[1, 1, 1, 1, 1, 1, 1, 1, 0, 1]\n",
      "[1, 1, 1, 1, 1, 1, 1, 1, 0, 0]\n",
      "[1, 1, 1, 1, 1, 1, 1, 1, 0, 1]\n",
      "[1, 1, 1, 0, 1, 1, 1, 0, 0, 1]\n",
      "[1, 1, 1, 0, 1, 1, 1, 1, 1, 1]\n"
     ]
    }
   ],
   "source": [
    "#ex 11\n",
    "#Considerându-se o matrice cu n x m elemente binare (0 sau 1), \n",
    "#să se înlocuiască cu 1 toate aparițiile elementelor egale cu 0 care sunt complet înconjurate de 1.\n",
    "\n",
    "def change_0_to_1(matrix):\n",
    "    copy = [line[:] for line in matrix]\n",
    "    \n",
    "    keep_zero = set()\n",
    "\n",
    "    n = len(matrix)\n",
    "    m = len(matrix[0])\n",
    "    \n",
    "    def mark_zero(i, j):\n",
    "        if (i, j) in keep_zero:\n",
    "            return\n",
    "        if i < 0 or i >= n or j < 0 or j >= m or matrix[i][j] == 1:\n",
    "            return\n",
    "        \n",
    "        keep_zero.add((i, j))\n",
    "        \n",
    "        mark_zero(i+1, j)\n",
    "        mark_zero(i-1, j)\n",
    "        mark_zero(i, j+1)\n",
    "        mark_zero(i, j-1)\n",
    "    \n",
    "    for i in range(n):\n",
    "        if matrix[i][0] == 0:\n",
    "            mark_zero(i, 0)\n",
    "        if matrix[i][m-1] == 0:\n",
    "            mark_zero(i, m-1)\n",
    "    \n",
    "    for j in range(m):\n",
    "        if matrix[0][j] == 0:\n",
    "            mark_zero(0, j)\n",
    "        if matrix[n-1][j] == 0:\n",
    "            mark_zero(n-1, j)\n",
    "    \n",
    "    for i in range(n):\n",
    "        for j in range(m):\n",
    "            if matrix[i][j] == 0 and (i, j) not in keep_zero:\n",
    "                copy[i][j] = 1\n",
    "    \n",
    "    return copy\n",
    "    \n",
    "matrix = [[1,1,1,1,0,0,1,1,0,1],\n",
    "[1,0,0,1,1,0,1,1,1,1],\n",
    "[1,0,0,1,1,1,1,1,1,1],\n",
    "[1,1,1,1,0,0,1,1,0,1],\n",
    "[1,0,0,1,1,0,1,1,0,0],\n",
    "[1,1,0,1,1,0,0,1,0,1],\n",
    "[1,1,1,0,1,0,1,0,0,1],\n",
    "[1,1,1,0,1,1,1,1,1,1]]\n",
    "\n",
    "matrix = change_0_to_1(matrix)\n",
    "for line in matrix:\n",
    "    print(line)\n",
    "#Time : O(n x m)\n",
    "#Space : O(n x m)"
   ]
  },
  {
   "cell_type": "code",
   "execution_count": 74,
   "id": "ee7a6125-795b-454b-acad-75680b4f024d",
   "metadata": {},
   "outputs": [
    {
     "name": "stdout",
     "output_type": "stream",
     "text": [
      "[1, 1, 1, 1, 0, 0, 1, 1, 0, 1]\n",
      "[1, 0, 0, 1, 1, 0, 1, 1, 1, 1]\n",
      "[1, 0, 0, 1, 1, 1, 1, 1, 1, 1]\n",
      "[1, 1, 1, 1, 0, 0, 1, 1, 0, 1]\n",
      "[1, 0, 0, 1, 1, 0, 1, 1, 0, 0]\n",
      "[1, 1, 0, 1, 1, 0, 0, 1, 0, 1]\n",
      "[1, 1, 1, 0, 1, 0, 1, 0, 0, 1]\n",
      "[1, 1, 1, 0, 1, 1, 1, 1, 1, 1]\n"
     ]
    }
   ],
   "source": [
    "#ex 11 AI\n",
    "def replace_zeros(matrix):\n",
    "    n = len(matrix)\n",
    "    m = len(matrix[0])\n",
    "    \n",
    "    # Creăm o matrice auxiliară pentru a marca modificările\n",
    "    result = [row[:] for row in matrix]\n",
    "    \n",
    "    # Parcurgem matricea pentru a găsi elementele 0\n",
    "    for i in range(1, n - 1):  # Evităm marginile\n",
    "        for j in range(1, m - 1):  # Evităm marginile\n",
    "            # Verificăm dacă elementul matrix[i][j] este 0 și dacă este complet înconjurat de 1\n",
    "            if matrix[i][j] == 0:\n",
    "                if (matrix[i-1][j] == 1 and matrix[i+1][j] == 1 and\n",
    "                    matrix[i][j-1] == 1 and matrix[i][j+1] == 1):\n",
    "                    result[i][j] = 1\n",
    "    \n",
    "    return result\n",
    "\n",
    "# Test\n",
    "matrix = [\n",
    "    [1,1,1,1,0,0,1,1,0,1],\n",
    "    [1,0,0,1,1,0,1,1,1,1],\n",
    "    [1,0,0,1,1,1,1,1,1,1],\n",
    "    [1,1,1,1,0,0,1,1,0,1],\n",
    "    [1,0,0,1,1,0,1,1,0,0],\n",
    "    [1,1,0,1,1,0,0,1,0,1],\n",
    "    [1,1,1,0,1,0,1,0,0,1],\n",
    "    [1,1,1,0,1,1,1,1,1,1]\n",
    "]\n",
    "\n",
    "new_matrix = replace_zeros(matrix)\n",
    "for row in new_matrix:\n",
    "    print(row)\n",
    "#Time : O(n x m)\n",
    "#Space : O(n x m)\n",
    "#This solution is wrong he didn't understand the criteria of being totally surrounded by 1s"
   ]
  },
  {
   "cell_type": "code",
   "execution_count": null,
   "id": "6bd7e0b4-b923-44e8-aa0a-5b43b3c7cbfc",
   "metadata": {},
   "outputs": [],
   "source": []
  }
 ],
 "metadata": {
  "kernelspec": {
   "display_name": "Python 3 (ipykernel)",
   "language": "python",
   "name": "python3"
  },
  "language_info": {
   "codemirror_mode": {
    "name": "ipython",
    "version": 3
   },
   "file_extension": ".py",
   "mimetype": "text/x-python",
   "name": "python",
   "nbconvert_exporter": "python",
   "pygments_lexer": "ipython3",
   "version": "3.11.6"
  }
 },
 "nbformat": 4,
 "nbformat_minor": 5
}
