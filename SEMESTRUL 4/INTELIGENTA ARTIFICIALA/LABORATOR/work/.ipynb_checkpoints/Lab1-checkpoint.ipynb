{
 "cells": [
  {
   "cell_type": "code",
   "execution_count": 14,
   "id": "ab67291e-e258-49f5-ba34-ec9f371532db",
   "metadata": {},
   "outputs": [
    {
     "name": "stdout",
     "output_type": "stream",
     "text": [
      "si\n"
     ]
    }
   ],
   "source": [
    "#ex 1\n",
    "#Să se determine ultimul (din punct de vedere alfabetic) cuvânt care poate apărea într-un text\n",
    "#care conține mai multe cuvinte separate prin ” ” (spațiu). \n",
    "#De ex. ultimul (dpdv alfabetic) cuvânt din ”Ana are mere rosii si galbene” este cuvântul \"si\".\n",
    "def last_word(x):\n",
    "    x = x.split(' ')\n",
    "    x.sort(reverse = True)\n",
    "    return x[0]\n",
    "print(last_word('Ana are mere rosii si galbene'))"
   ]
  },
  {
   "cell_type": "code",
   "execution_count": 15,
   "id": "ce9d7a64-2aff-4ac6-8868-252fd73c73eb",
   "metadata": {},
   "outputs": [
    {
     "name": "stdout",
     "output_type": "stream",
     "text": [
      "5.0\n"
     ]
    }
   ],
   "source": [
    "#ex 2\n",
    "#Să se determine distanța Euclideană între două locații identificate prin perechi de numere. \n",
    "#De ex. distanța între (1,5) și (4,1) este 5.0\n",
    "import math\n",
    "def euclidean(x1, x2, y1, y2):\n",
    "    return math.sqrt(abs(x1-x2)**2 + abs(y1-y2) ** 2)\n",
    "print(euclidean(1, 5, 4, 1))"
   ]
  },
  {
   "cell_type": "code",
   "execution_count": 36,
   "id": "9d52c7e4-0136-43d1-b6b8-c8248fa337b4",
   "metadata": {},
   "outputs": [
    {
     "name": "stdout",
     "output_type": "stream",
     "text": [
      "4\n"
     ]
    }
   ],
   "source": [
    "#ex 3\n",
    "#Să se determine produsul scalar a doi vectori rari care conțin numere reale. \n",
    "#Un vector este rar atunci când conține multe elemente nule. Vectorii pot avea oricâte dimensiuni. \n",
    "#De ex. produsul scalar a 2 vectori unisimensionali [1,0,2,0,3] și [1,2,0,3,1] este 4.\n",
    "def produs(x, y):\n",
    " return sum(a * b for a, b in zip(x, y))\n",
    "print(produs([1,0,2,0,3], [1,2,0,3,1]))"
   ]
  },
  {
   "cell_type": "code",
   "execution_count": 12,
   "id": "87157df1-7b92-4b1f-854a-14f1e207bb45",
   "metadata": {},
   "outputs": [
    {
     "name": "stdout",
     "output_type": "stream",
     "text": [
      "mere\n",
      "rosii\n"
     ]
    }
   ],
   "source": [
    "#ex 4\n",
    "#Să se determine cuvintele unui text care apar exact o singură dată în acel text. \n",
    "#De ex. cuvintele care apar o singură dată în ”ana are ana are mere rosii ana\" sunt: 'mere' și 'rosii'.\n",
    "def cuvinte(s):\n",
    "    hash = {}\n",
    "    s = s.split(' ')\n",
    "    for el in s:\n",
    "        if el not in hash:\n",
    "            hash[el] = 1\n",
    "        else:\n",
    "            hash[el] += 1\n",
    "    for el in hash:\n",
    "        if hash[el] == 1:\n",
    "            print(el)\n",
    "cuvinte('ana are ana are mere rosii ana')"
   ]
  },
  {
   "cell_type": "code",
   "execution_count": 24,
   "id": "f63c5ac3-bfbc-406e-9eed-18aaf6fd7302",
   "metadata": {},
   "outputs": [
    {
     "name": "stdout",
     "output_type": "stream",
     "text": [
      "2\n"
     ]
    }
   ],
   "source": [
    "#ex 5\n",
    "#Pentru un șir cu n elemente care conține valori din mulțimea {1, 2, ..., n - 1} \n",
    "#astfel încât o singură valoare se repetă de două ori, să se identifice acea valoare care se repetă. \n",
    "#De ex. în șirul [1,2,3,4,2] valoarea 2 apare de două ori.\n",
    "def multime(x):\n",
    "    sum = 0\n",
    "    for el in x:\n",
    "        sum += el\n",
    "    gauss = len(x)*(len(x)-1) // 2\n",
    "    return sum - gauss\n",
    "print(multime([1,2,3,4,2]))\n",
    "assert(multime([1,2,3,4,2]) == 2)\n",
    "assert(multime([1,2,1]) == 1)"
   ]
  },
  {
   "cell_type": "code",
   "execution_count": 17,
   "id": "51914af9-51ea-4a1d-843e-b80fb8590045",
   "metadata": {},
   "outputs": [
    {
     "name": "stdout",
     "output_type": "stream",
     "text": [
      "2\n"
     ]
    }
   ],
   "source": [
    "#ex 6\n",
    "#Pentru un șir cu n numere întregi care conține și duplicate, să se determine elementul majoritar \n",
    "#(care apare de mai mult de n / 2 ori). \n",
    "#De ex. 2 este elementul majoritar în șirul [2,8,7,2,2,5,2,3,1,2,2].\n",
    "def duplicate(x):\n",
    "    hash = {}\n",
    "    maxi = -1\n",
    "    res = 0\n",
    "    for el in x:\n",
    "        if el not in hash:\n",
    "            hash[el] = 0\n",
    "        hash[el] += 1\n",
    "        if hash[el] > maxi:\n",
    "            maxi = hash[el]\n",
    "            res = el\n",
    "    return res\n",
    "print(duplicate([2,8,7,2,2,5,2,3,1,2,2]))"
   ]
  },
  {
   "cell_type": "code",
   "execution_count": 22,
   "id": "b0d36224-d63d-45ab-b95b-c7a02aa3eb4d",
   "metadata": {},
   "outputs": [
    {
     "name": "stdout",
     "output_type": "stream",
     "text": [
      "7\n"
     ]
    }
   ],
   "source": [
    "#ex 7\n",
    "#Să se determine al k-lea cel mai mare element al unui șir de numere cu n elemente (k < n). \n",
    "#De ex. al 2-lea cel mai mare element din șirul [7,4,6,3,9,1] este 7.\n",
    "def kth_element(k, list):\n",
    "    list.sort(reverse = True)\n",
    "    return list[k-1]\n",
    "print(kth_element(2, [7,4,6,3,9,1]))\n",
    "assert(kth_element(2, [7,4,6,3,9,1]) == 7)"
   ]
  },
  {
   "cell_type": "code",
   "execution_count": 31,
   "id": "ddd77fa0-ccd0-4bdc-ab02-7fd4f08fba20",
   "metadata": {},
   "outputs": [
    {
     "name": "stdout",
     "output_type": "stream",
     "text": [
      "1\n",
      "10\n",
      "11\n",
      "100\n",
      "101\n",
      "110\n",
      "111\n",
      "1000\n"
     ]
    }
   ],
   "source": [
    "#ex 8\n",
    "#Să se genereze toate numerele (în reprezentare binară) cuprinse între 1 și n. De ex. dacă n = 4, numerele sunt: 1, 10, 11, 100.\n",
    "from queue import Queue\n",
    "def generate_binary(n):\n",
    "    el = Queue()\n",
    "    el.put('1')\n",
    "    for i in range(n):\n",
    "        x = el.get()\n",
    "        print(x)\n",
    "        el.put(x + '0')\n",
    "        el.put(x + '1')\n",
    "\n",
    "generate_binary(8)"
   ]
  },
  {
   "cell_type": "code",
   "execution_count": 33,
   "id": "a7cd2a6a-a01c-4731-b9d7-26176068341c",
   "metadata": {},
   "outputs": [
    {
     "name": "stdout",
     "output_type": "stream",
     "text": [
      "38\n",
      "44\n"
     ]
    }
   ],
   "source": [
    "#ex 9\n",
    "#Considerându-se o matrice cu n x m elemente întregi și o listă cu perechi formate din \n",
    "#coordonatele a 2 căsuțe din matrice ((p,q) și (r,s)), \n",
    "#să se calculeze suma elementelor din sub-matricile identificate de fieare pereche.\n",
    "def sum_matrix(matrix, x, y):\n",
    "    sum = 0\n",
    "    for i in range(x[0], y[0]+1):\n",
    "        for j in range(x[1], y[1]+1):\n",
    "           sum += matrix[i][j]\n",
    "    return sum\n",
    "\n",
    "matrix = [[0, 2, 5, 4, 1],\n",
    "[4, 8, 2, 3, 7],\n",
    "[6, 3, 4, 6, 2],\n",
    "[7, 3, 1, 8, 3],\n",
    "[1, 5, 7, 9, 4]]\n",
    "print(sum_matrix(matrix, [1, 1] , [3, 3]))\n",
    "print(sum_matrix(matrix, [2, 2] , [4, 4]))\n"
   ]
  },
  {
   "cell_type": "code",
   "execution_count": 34,
   "id": "4bf30ca3-3e16-4e98-ae9d-9d91da9766d0",
   "metadata": {},
   "outputs": [
    {
     "name": "stdout",
     "output_type": "stream",
     "text": [
      "1\n"
     ]
    }
   ],
   "source": [
    "#ex 10\n",
    "#Considerându-se o matrice cu n x m elemente binare (0 sau 1) sortate crescător pe linii,\n",
    "#să se identifice indexul liniei care conține cele mai multe elemente de 1.\n",
    "def most_1s(matrix):\n",
    "    index = 0\n",
    "    most = -1\n",
    "    most_index = -1\n",
    "    for line in matrix:\n",
    "        sum = 0\n",
    "        for el in line:\n",
    "            sum += el\n",
    "        if sum > most:\n",
    "            most = sum\n",
    "            most_index = index\n",
    "        index += 1\n",
    "    return most_index\n",
    "print(most_1s([[0,0,0,1,1],[0,1,1,1,1],[0,0,1,1,1]]))\n",
    "assert(most_1s([[1,0,1,1,1],[0,1,1,1,1],[0,0,1,1,1], [1,1,1,1,1]]) == 3)\n",
    "assert(most_1s([[0,0,0,0]]) == 0)"
   ]
  },
  {
   "cell_type": "code",
   "execution_count": null,
   "id": "1188070e-f804-4963-8c08-06c1d6dcf96b",
   "metadata": {},
   "outputs": [],
   "source": []
  }
 ],
 "metadata": {
  "kernelspec": {
   "display_name": "Python 3 (ipykernel)",
   "language": "python",
   "name": "python3"
  },
  "language_info": {
   "codemirror_mode": {
    "name": "ipython",
    "version": 3
   },
   "file_extension": ".py",
   "mimetype": "text/x-python",
   "name": "python",
   "nbconvert_exporter": "python",
   "pygments_lexer": "ipython3",
   "version": "3.11.6"
  }
 },
 "nbformat": 4,
 "nbformat_minor": 5
}
