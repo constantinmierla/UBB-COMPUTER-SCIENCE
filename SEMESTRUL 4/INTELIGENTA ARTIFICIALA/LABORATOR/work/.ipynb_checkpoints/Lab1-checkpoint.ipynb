{
 "cells": [
  {
   "cell_type": "code",
   "execution_count": 16,
   "id": "ab67291e-e258-49f5-ba34-ec9f371532db",
   "metadata": {},
   "outputs": [
    {
     "name": "stdout",
     "output_type": "stream",
     "text": [
      "si\n"
     ]
    }
   ],
   "source": [
    "#ex 1\n",
    "def last_word(x):\n",
    "    x = x.split(' ')\n",
    "    x.sort(reverse = True)\n",
    "    return x[0]\n",
    "print(last_word('Ana are mere rosii si galbene'))"
   ]
  },
  {
   "cell_type": "code",
   "execution_count": 15,
   "id": "ce9d7a64-2aff-4ac6-8868-252fd73c73eb",
   "metadata": {},
   "outputs": [
    {
     "name": "stdout",
     "output_type": "stream",
     "text": [
      "5.0\n"
     ]
    }
   ],
   "source": [
    "#ex 2\n",
    "import math\n",
    "def euclidean(x1, x2, y1, y2):\n",
    "    return math.sqrt(abs(x1-x2)**2 + abs(y1-y2) ** 2)\n",
    "print(euclidean(1, 5, 4, 1))"
   ]
  },
  {
   "cell_type": "code",
   "execution_count": null,
   "id": "87157df1-7b92-4b1f-854a-14f1e207bb45",
   "metadata": {},
   "outputs": [],
   "source": [
    "#ex 3\n",
    "Lasconi scapa-ne de ieieeieieie"
   ]
  },
  {
   "cell_type": "code",
   "execution_count": null,
   "id": "f63c5ac3-bfbc-406e-9eed-18aaf6fd7302",
   "metadata": {},
   "outputs": [],
   "source": []
  }
 ],
 "metadata": {
  "kernelspec": {
   "display_name": "Python 3 (ipykernel)",
   "language": "python",
   "name": "python3"
  },
  "language_info": {
   "codemirror_mode": {
    "name": "ipython",
    "version": 3
   },
   "file_extension": ".py",
   "mimetype": "text/x-python",
   "name": "python",
   "nbconvert_exporter": "python",
   "pygments_lexer": "ipython3",
   "version": "3.11.6"
  }
 },
 "nbformat": 4,
 "nbformat_minor": 5
}
