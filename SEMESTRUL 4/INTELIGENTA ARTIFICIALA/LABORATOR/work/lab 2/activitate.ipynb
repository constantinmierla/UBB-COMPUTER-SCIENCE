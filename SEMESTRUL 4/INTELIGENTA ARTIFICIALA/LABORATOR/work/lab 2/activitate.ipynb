{
 "cells": [
  {
   "cell_type": "code",
   "id": "initial_id",
   "metadata": {
    "collapsed": true,
    "ExecuteTime": {
     "end_time": "2025-03-10T09:33:25.258377Z",
     "start_time": "2025-03-10T09:33:24.175042Z"
    }
   },
   "source": [
    "import pandas as pd\n",
    "import matplotlib.pyplot as plt\n",
    "\n",
    "\n",
    "def pb():\n",
    "    data = pd.read_csv(\"data/surveyDataSience.csv\", delimiter=',', header=[0,1],low_memory=False)\n",
    "    #print(date)\n",
    "    data.columns = data.columns.get_level_values(0)\n",
    "    data = data[1:].reset_index(drop=True)\n",
    "    selected_columns = ['Q1', 'Q2', 'Q3', 'Q4', 'Q5', 'Q6']\n",
    "    q7_columns = [col for col in data.columns if col.startswith('Q7_')]\n",
    "\n",
    "    data['Q7_concat'] = data[q7_columns].apply(lambda row: ', '.join(row.dropna()), axis=1)\n",
    "\n",
    "    df_final = data[selected_columns + ['Q7_concat'] + ['Q8']]\n",
    "\n",
    "    one_hot = df_final['Q7_concat'].str.get_dummies(sep=', ')\n",
    "\n",
    "    df_final = pd.concat([df_final, one_hot], axis=1)\n",
    "\n",
    "    df_final.drop(columns=['Q7_concat'], inplace=True)\n",
    "    total_nulls = df_final.isnull().sum().sum()\n",
    "    print(\"Numarul total de date nule este:\", total_nulls)\n",
    "    full_respondents = df_final.dropna().shape[0]\n",
    "    print(\"Numarul de corespondenti cu date complete:\",full_respondents)\n",
    "    print(df_final)\n",
    "pb()"
   ],
   "outputs": [
    {
     "name": "stdout",
     "output_type": "stream",
     "text": [
      "Numarul total de date nule este: 1144\n",
      "Numarul de corespondenti cu date complete: 24828\n",
      "          Q1     Q2                        Q3                      Q4  \\\n",
      "0      50-54    Man                 Indonesia         Master’s degree   \n",
      "1      22-24    Man                  Pakistan         Master’s degree   \n",
      "2      45-49    Man                    Mexico         Doctoral degree   \n",
      "3      45-49    Man                     India         Doctoral degree   \n",
      "4      25-29  Woman                     India  I prefer not to answer   \n",
      "...      ...    ...                       ...                     ...   \n",
      "25967  30-34    Man                     Egypt       Bachelor’s degree   \n",
      "25968  22-24    Man                     China         Master’s degree   \n",
      "25969  50-54    Man                    Sweden         Doctoral degree   \n",
      "25970  45-49    Man  United States of America         Master’s degree   \n",
      "25971  18-21    Man                     India       Bachelor’s degree   \n",
      "\n",
      "                            Q5                         Q6      Q8  Bash  C  \\\n",
      "0      Program/Project Manager                  20+ years  Python     0  1   \n",
      "1            Software Engineer                  1-3 years  Python     0  0   \n",
      "2           Research Scientist                  20+ years  Python     0  0   \n",
      "3                        Other                  < 1 years  Python     0  1   \n",
      "4       Currently not employed                  < 1 years  Python     0  0   \n",
      "...                        ...                        ...     ...   ... ..   \n",
      "25967             Data Analyst                  1-3 years  Python     1  0   \n",
      "25968                  Student                  1-3 years  Python     0  0   \n",
      "25969       Research Scientist  I have never written code     NaN     0  0   \n",
      "25970           Data Scientist                 5-10 years  Python     0  0   \n",
      "25971         Business Analyst  I have never written code     NaN     0  0   \n",
      "\n",
      "       C++  Java  Javascript  Julia  MATLAB  Other  Python  R  SQL  Swift  \n",
      "0        1     1           0      0       0      0       0  0    1      0  \n",
      "1        1     1           0      0       0      0       1  0    0      0  \n",
      "2        0     0           0      0       0      0       1  0    0      0  \n",
      "3        0     0           0      0       1      0       1  0    0      0  \n",
      "4        0     0           0      0       0      0       1  0    0      0  \n",
      "...    ...   ...         ...    ...     ...    ...     ... ..  ...    ...  \n",
      "25967    0     0           1      0       0      0       1  0    1      0  \n",
      "25968    0     0           0      0       0      0       1  0    0      0  \n",
      "25969    0     0           0      0       0      0       0  0    0      0  \n",
      "25970    0     0           0      0       0      0       1  0    1      0  \n",
      "25971    0     0           0      0       0      0       0  0    0      0  \n",
      "\n",
      "[25972 rows x 19 columns]\n"
     ]
    }
   ],
   "execution_count": 10
  }
 ],
 "metadata": {
  "kernelspec": {
   "display_name": "Python 3",
   "language": "python",
   "name": "python3"
  },
  "language_info": {
   "codemirror_mode": {
    "name": "ipython",
    "version": 2
   },
   "file_extension": ".py",
   "mimetype": "text/x-python",
   "name": "python",
   "nbconvert_exporter": "python",
   "pygments_lexer": "ipython2",
   "version": "2.7.6"
  }
 },
 "nbformat": 4,
 "nbformat_minor": 5
}
