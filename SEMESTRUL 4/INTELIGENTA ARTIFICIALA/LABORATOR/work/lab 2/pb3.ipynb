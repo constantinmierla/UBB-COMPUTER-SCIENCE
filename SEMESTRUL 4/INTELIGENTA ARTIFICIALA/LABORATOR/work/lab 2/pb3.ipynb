{
 "cells": [
  {
   "cell_type": "code",
   "id": "40a03dc6-691e-4c78-8c44-75727d395e5d",
   "metadata": {
    "ExecuteTime": {
     "end_time": "2025-03-10T10:12:19.410243Z",
     "start_time": "2025-03-10T10:12:19.146935Z"
    }
   },
   "source": [
    "import unidecode\n",
    "import re\n",
    "import requests\n",
    "from bs4 import BeautifulSoup\n",
    "\n",
    "def sinonim_cuvant(cuvant):\n",
    "    url = f\"https://dexonline.ro/intrare/{cuvant}\"\n",
    "    headers = {\n",
    "        \"User-Agent\": \"Mozilla/5.0 (Windows NT 10.0; Win64; x64) AppleWebKit/537.36 (KHTML, like Gecko) Chrome/110.0.0.0 Safari/537.36\"\n",
    "    }\n",
    "\n",
    "    response = requests.get(url, headers=headers)\n",
    "    if response.status_code != 200:\n",
    "        print(f\"Eroare: Nu am putut accesa DEX Online pentru '{cuvant}'.\")\n",
    "        return []\n",
    "\n",
    "    soup = BeautifulSoup(response.text, 'html.parser')\n",
    "\n",
    "    sinonime = set()\n",
    "    for span in soup.find_all(\"span\", class_=\"badge-relation badge-relation-1\"):\n",
    "        link = span.find(\"a\")\n",
    "        if link:\n",
    "            sinonime.add(link.text.strip())\n",
    "\n",
    "    return list(sinonime)\n",
    "\n",
    "def normalizare_cuvant(cuvant):\n",
    "    cuvant_curatat = re.sub(r'[^\\w\\s]', '', cuvant)\n",
    "\n",
    "    cuvant_normalizat = re.sub(r'(.)\\1+', r'\\1', cuvant)\n",
    "    return cuvant_normalizat\n",
    "\n",
    "\n",
    "def analiza_textului(fisier):\n",
    "    with open(fisier, 'r', encoding='utf-8') as f:\n",
    "        text = f.read()\n",
    "\n",
    "    propozitii = text.split('.')\n",
    "    numar_propozitii = len([p for p in propozitii if p.strip()])\n",
    "\n",
    "    cuvinte = text.split()\n",
    "    numar_cuvinte = len(cuvinte)\n",
    "\n",
    "    cuvinte_diferite = set(cuvinte)\n",
    "    numar_cuvinte_diferite = len(cuvinte_diferite)\n",
    "\n",
    "    cuvinte_sortate = sorted(cuvinte, key=len)\n",
    "    cel_mai_scurt_cuvant = cuvinte_sortate[0]\n",
    "    cel_mai_lung_cuvant = cuvinte_sortate[-1]\n",
    "\n",
    "    text_fara_diacritice = unidecode.unidecode(text)\n",
    "\n",
    "    # Normalizăm cuvântul cel mai lung pentru a elimina caracterele repetate\n",
    "    cel_mai_lung_cuvant_normalizat = normalizare_cuvant(cel_mai_lung_cuvant)\n",
    "\n",
    "    sinonime = sinonim_cuvant(cel_mai_lung_cuvant_normalizat)\n",
    "\n",
    "\n",
    "    print(\"Numarul de propozitii:\", numar_propozitii)\n",
    "    print(\"Numarul de cuvinte:\", numar_cuvinte)\n",
    "    print(\"Numarul de cuvinte diferite:\", numar_cuvinte_diferite)\n",
    "    print(\"Cel mai scurt cuvant:\", cel_mai_scurt_cuvant)\n",
    "    print(\"Cel mai lung cuvant:\", cel_mai_lung_cuvant)\n",
    "    print(\"Textul fara diacritice:\", text_fara_diacritice)\n",
    "    print(\"Sinonimele celui mai lung cuvant:\", sinonime)\n",
    "\n",
    "analiza_textului('data/texts.txt')\n"
   ],
   "outputs": [
    {
     "name": "stdout",
     "output_type": "stream",
     "text": [
      "Numarul de propozitii: 9\n",
      "Numarul de cuvinte: 161\n",
      "Numarul de cuvinte diferite: 105\n",
      "Cel mai scurt cuvant: o\n",
      "Cel mai lung cuvant: ”Confiiiiiiiiiiiiiiiiiiiiiiiiiiiirm\n",
      "Textul fara diacritice: Mesaj de informare: \n",
      "Cursul si laboratoarele de Inteligenta Artificiala vor fi o \n",
      "provocare pentru toti. Suntem convinsi ca veti realiza proiecte \n",
      "foarte interesante. Va incurajam sa adresati intrebari atunci \n",
      "cand ceva nu e clar, atat in mod live, cat si folosind platforma \n",
      "Teams, canalul \"general\". \n",
      "Daca ati citit pana aici, va rugam sa lasati un mesaj pe canalul \n",
      "general cu textul \"Confiiiiiiiiiiiiiiiiiiiiiiiiiiiirm ca am citit \n",
      "textul pentru problema 3 din lab2\". \n",
      "--\n",
      "Mesaj de informare generat de ChatGPT:\n",
      "Stimati cursanti,\n",
      "Suntem incantati sa va avem in echipa noastra pentru Cursul si \n",
      "laboratoarele de Inteligenta Artificiala. Aceasta experienta va \n",
      "fi o adevarata provocare, dar suntem convinsi ca veti realiza \n",
      "proiecte extrem de interesante.\n",
      "Va incurajam sa fiti activi si sa adresati intrebari atunci cand \n",
      "ceva nu este clar. Fie ca este vorba de o discutie in timp real \n",
      "sau prin intermediul platformei Teams, canalul \"general\", suntem \n",
      "aici sa va sprijinim.\n",
      "Succes si sa inceapa aventura AI!\n",
      "Cu consideratie, Echipa de Inteligenta Artificiala\n",
      "Sinonimele celui mai lung cuvant: ['corobora', 'adeveri', 'definitiva']\n"
     ]
    }
   ],
   "execution_count": 46
  },
  {
   "metadata": {},
   "cell_type": "code",
   "outputs": [],
   "execution_count": null,
   "source": "",
   "id": "12c1da30b121e221"
  }
 ],
 "metadata": {
  "kernelspec": {
   "display_name": "Python 3 (ipykernel)",
   "language": "python",
   "name": "python3"
  },
  "language_info": {
   "codemirror_mode": {
    "name": "ipython",
    "version": 3
   },
   "file_extension": ".py",
   "mimetype": "text/x-python",
   "name": "python",
   "nbconvert_exporter": "python",
   "pygments_lexer": "ipython3",
   "version": "3.11.6"
  }
 },
 "nbformat": 4,
 "nbformat_minor": 5
}
